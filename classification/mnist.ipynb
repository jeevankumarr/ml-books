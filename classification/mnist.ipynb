{
 "cells": [
  {
   "cell_type": "code",
   "execution_count": 1,
   "metadata": {
    "ExecuteTime": {
     "end_time": "2018-10-03T15:27:49.627075Z",
     "start_time": "2018-10-03T15:27:49.046564Z"
    }
   },
   "outputs": [],
   "source": [
    "import pandas as pd\n",
    "import altair as alt\n",
    "import matplotlib.pyplot as plt\n",
    "import os\n",
    "import json\n",
    "import numpy as np\n",
    "\n",
    "import pytz\n",
    "from datetime import datetime, timedelta\n",
    "alt.renderers.enable('notebook')\n",
    "%matplotlib inline\n",
    "pst = pytz.timezone('US/Pacific')"
   ]
  },
  {
   "cell_type": "code",
   "execution_count": 2,
   "metadata": {
    "ExecuteTime": {
     "end_time": "2018-10-03T15:27:50.227137Z",
     "start_time": "2018-10-03T15:27:49.628750Z"
    }
   },
   "outputs": [],
   "source": [
    "import sklearn.ensemble as sk_ens\n",
    "import sklearn.neighbors as sk_neigh\n",
    "import sklearn.metrics as sk_met\n",
    "import sklearn.model_selection as sk_model"
   ]
  },
  {
   "cell_type": "code",
   "execution_count": 3,
   "metadata": {
    "ExecuteTime": {
     "end_time": "2018-10-03T15:27:55.789173Z",
     "start_time": "2018-10-03T15:27:50.228873Z"
    }
   },
   "outputs": [],
   "source": [
    "train = pd.read_csv(os.path.expanduser('~/dev/datasets/mnist/mnist_train.csv'), header=None)\n",
    "test = pd.read_csv(os.path.expanduser('~/dev/datasets/mnist/mnist_test.csv'), header=None)\n",
    "train.columns = map(str, train.columns)\n",
    "test.columns = map(str, test.columns)"
   ]
  },
  {
   "cell_type": "code",
   "execution_count": 4,
   "metadata": {
    "ExecuteTime": {
     "end_time": "2018-10-03T15:27:56.002216Z",
     "start_time": "2018-10-03T15:27:55.790736Z"
    }
   },
   "outputs": [],
   "source": [
    "X_train = train[[col for col in train.columns if col not in ['0']]]\n",
    "y_train = train['0']\n",
    "X_test = test[[col for col in test.columns if col not in ['0']]]\n",
    "y_test = test['0']"
   ]
  },
  {
   "cell_type": "code",
   "execution_count": 5,
   "metadata": {
    "ExecuteTime": {
     "end_time": "2018-10-03T15:27:56.022261Z",
     "start_time": "2018-10-03T15:27:56.004250Z"
    }
   },
   "outputs": [
    {
     "data": {
      "text/html": [
       "<div>\n",
       "<style scoped>\n",
       "    .dataframe tbody tr th:only-of-type {\n",
       "        vertical-align: middle;\n",
       "    }\n",
       "\n",
       "    .dataframe tbody tr th {\n",
       "        vertical-align: top;\n",
       "    }\n",
       "\n",
       "    .dataframe thead th {\n",
       "        text-align: right;\n",
       "    }\n",
       "</style>\n",
       "<table border=\"1\" class=\"dataframe\">\n",
       "  <thead>\n",
       "    <tr style=\"text-align: right;\">\n",
       "      <th></th>\n",
       "      <th>1</th>\n",
       "      <th>2</th>\n",
       "      <th>3</th>\n",
       "      <th>4</th>\n",
       "      <th>5</th>\n",
       "      <th>6</th>\n",
       "      <th>7</th>\n",
       "      <th>8</th>\n",
       "      <th>9</th>\n",
       "      <th>10</th>\n",
       "      <th>...</th>\n",
       "      <th>775</th>\n",
       "      <th>776</th>\n",
       "      <th>777</th>\n",
       "      <th>778</th>\n",
       "      <th>779</th>\n",
       "      <th>780</th>\n",
       "      <th>781</th>\n",
       "      <th>782</th>\n",
       "      <th>783</th>\n",
       "      <th>784</th>\n",
       "    </tr>\n",
       "  </thead>\n",
       "  <tbody>\n",
       "    <tr>\n",
       "      <th>0</th>\n",
       "      <td>0</td>\n",
       "      <td>0</td>\n",
       "      <td>0</td>\n",
       "      <td>0</td>\n",
       "      <td>0</td>\n",
       "      <td>0</td>\n",
       "      <td>0</td>\n",
       "      <td>0</td>\n",
       "      <td>0</td>\n",
       "      <td>0</td>\n",
       "      <td>...</td>\n",
       "      <td>0</td>\n",
       "      <td>0</td>\n",
       "      <td>0</td>\n",
       "      <td>0</td>\n",
       "      <td>0</td>\n",
       "      <td>0</td>\n",
       "      <td>0</td>\n",
       "      <td>0</td>\n",
       "      <td>0</td>\n",
       "      <td>0</td>\n",
       "    </tr>\n",
       "    <tr>\n",
       "      <th>1</th>\n",
       "      <td>0</td>\n",
       "      <td>0</td>\n",
       "      <td>0</td>\n",
       "      <td>0</td>\n",
       "      <td>0</td>\n",
       "      <td>0</td>\n",
       "      <td>0</td>\n",
       "      <td>0</td>\n",
       "      <td>0</td>\n",
       "      <td>0</td>\n",
       "      <td>...</td>\n",
       "      <td>0</td>\n",
       "      <td>0</td>\n",
       "      <td>0</td>\n",
       "      <td>0</td>\n",
       "      <td>0</td>\n",
       "      <td>0</td>\n",
       "      <td>0</td>\n",
       "      <td>0</td>\n",
       "      <td>0</td>\n",
       "      <td>0</td>\n",
       "    </tr>\n",
       "    <tr>\n",
       "      <th>2</th>\n",
       "      <td>0</td>\n",
       "      <td>0</td>\n",
       "      <td>0</td>\n",
       "      <td>0</td>\n",
       "      <td>0</td>\n",
       "      <td>0</td>\n",
       "      <td>0</td>\n",
       "      <td>0</td>\n",
       "      <td>0</td>\n",
       "      <td>0</td>\n",
       "      <td>...</td>\n",
       "      <td>0</td>\n",
       "      <td>0</td>\n",
       "      <td>0</td>\n",
       "      <td>0</td>\n",
       "      <td>0</td>\n",
       "      <td>0</td>\n",
       "      <td>0</td>\n",
       "      <td>0</td>\n",
       "      <td>0</td>\n",
       "      <td>0</td>\n",
       "    </tr>\n",
       "    <tr>\n",
       "      <th>3</th>\n",
       "      <td>0</td>\n",
       "      <td>0</td>\n",
       "      <td>0</td>\n",
       "      <td>0</td>\n",
       "      <td>0</td>\n",
       "      <td>0</td>\n",
       "      <td>0</td>\n",
       "      <td>0</td>\n",
       "      <td>0</td>\n",
       "      <td>0</td>\n",
       "      <td>...</td>\n",
       "      <td>0</td>\n",
       "      <td>0</td>\n",
       "      <td>0</td>\n",
       "      <td>0</td>\n",
       "      <td>0</td>\n",
       "      <td>0</td>\n",
       "      <td>0</td>\n",
       "      <td>0</td>\n",
       "      <td>0</td>\n",
       "      <td>0</td>\n",
       "    </tr>\n",
       "    <tr>\n",
       "      <th>4</th>\n",
       "      <td>0</td>\n",
       "      <td>0</td>\n",
       "      <td>0</td>\n",
       "      <td>0</td>\n",
       "      <td>0</td>\n",
       "      <td>0</td>\n",
       "      <td>0</td>\n",
       "      <td>0</td>\n",
       "      <td>0</td>\n",
       "      <td>0</td>\n",
       "      <td>...</td>\n",
       "      <td>0</td>\n",
       "      <td>0</td>\n",
       "      <td>0</td>\n",
       "      <td>0</td>\n",
       "      <td>0</td>\n",
       "      <td>0</td>\n",
       "      <td>0</td>\n",
       "      <td>0</td>\n",
       "      <td>0</td>\n",
       "      <td>0</td>\n",
       "    </tr>\n",
       "  </tbody>\n",
       "</table>\n",
       "<p>5 rows × 784 columns</p>\n",
       "</div>"
      ],
      "text/plain": [
       "   1  2  3  4  5  6  7  8  9  10 ...   775  776  777  778  779  780  781  782  \\\n",
       "0  0  0  0  0  0  0  0  0  0   0 ...     0    0    0    0    0    0    0    0   \n",
       "1  0  0  0  0  0  0  0  0  0   0 ...     0    0    0    0    0    0    0    0   \n",
       "2  0  0  0  0  0  0  0  0  0   0 ...     0    0    0    0    0    0    0    0   \n",
       "3  0  0  0  0  0  0  0  0  0   0 ...     0    0    0    0    0    0    0    0   \n",
       "4  0  0  0  0  0  0  0  0  0   0 ...     0    0    0    0    0    0    0    0   \n",
       "\n",
       "   783  784  \n",
       "0    0    0  \n",
       "1    0    0  \n",
       "2    0    0  \n",
       "3    0    0  \n",
       "4    0    0  \n",
       "\n",
       "[5 rows x 784 columns]"
      ]
     },
     "execution_count": 5,
     "metadata": {},
     "output_type": "execute_result"
    }
   ],
   "source": [
    "X_test.head()"
   ]
  },
  {
   "cell_type": "code",
   "execution_count": 6,
   "metadata": {
    "ExecuteTime": {
     "end_time": "2018-10-03T15:27:56.026955Z",
     "start_time": "2018-10-03T15:27:56.024127Z"
    }
   },
   "outputs": [],
   "source": [
    "adaboost = sk_ens.AdaBoostClassifier(n_estimators=100, random_state=0)\n",
    "knn = sk_neigh.KNeighborsClassifier(n_jobs=10)\n",
    "rand_for = sk_ens.RandomForestClassifier(n_jobs=10, random_state=0)"
   ]
  },
  {
   "cell_type": "code",
   "execution_count": 7,
   "metadata": {
    "ExecuteTime": {
     "end_time": "2018-10-03T15:27:56.031983Z",
     "start_time": "2018-10-03T15:27:56.029370Z"
    }
   },
   "outputs": [],
   "source": [
    "models = [rand_for, adaboost, knn]"
   ]
  },
  {
   "cell_type": "code",
   "execution_count": 10,
   "metadata": {
    "ExecuteTime": {
     "end_time": "2018-10-03T15:28:50.596033Z",
     "start_time": "2018-10-03T15:28:50.593000Z"
    }
   },
   "outputs": [],
   "source": [
    "def scorer(model, X, y):\n",
    "    y_pred = model.predict(X)\n",
    "    return sk_met.f1_score(y, y_pred, average='weighted')"
   ]
  },
  {
   "cell_type": "code",
   "execution_count": null,
   "metadata": {
    "ExecuteTime": {
     "start_time": "2018-10-03T15:28:51.214Z"
    }
   },
   "outputs": [
    {
     "name": "stdout",
     "output_type": "stream",
     "text": [
      "2018-10-03 08:28:51.218240-07:00\n",
      "Starting:  2018-10-03 08:28:51.218513-07:00\n",
      "RandomForestClassifier(bootstrap=True, class_weight=None, criterion='gini',\n",
      "            max_depth=None, max_features='auto', max_leaf_nodes=None,\n",
      "            min_impurity_decrease=0.0, min_impurity_split=None,\n",
      "            min_samples_leaf=1, min_samples_split=2,\n",
      "            min_weight_fraction_leaf=0.0, n_estimators=10, n_jobs=10,\n",
      "            oob_score=False, random_state=0, verbose=0, warm_start=False)\n",
      "CV Score: Mean 0.9426, [0.9426 0.9433 0.9373 0.9389 0.9509]\n"
     ]
    },
    {
     "data": {
      "text/html": [
       "<div>\n",
       "<style scoped>\n",
       "    .dataframe tbody tr th:only-of-type {\n",
       "        vertical-align: middle;\n",
       "    }\n",
       "\n",
       "    .dataframe tbody tr th {\n",
       "        vertical-align: top;\n",
       "    }\n",
       "\n",
       "    .dataframe thead th {\n",
       "        text-align: right;\n",
       "    }\n",
       "</style>\n",
       "<table border=\"1\" class=\"dataframe\">\n",
       "  <thead>\n",
       "    <tr style=\"text-align: right;\">\n",
       "      <th></th>\n",
       "      <th>0</th>\n",
       "      <th>1</th>\n",
       "      <th>2</th>\n",
       "      <th>3</th>\n",
       "      <th>4</th>\n",
       "      <th>5</th>\n",
       "      <th>6</th>\n",
       "      <th>7</th>\n",
       "      <th>8</th>\n",
       "      <th>9</th>\n",
       "      <th>micro avg</th>\n",
       "      <th>macro avg</th>\n",
       "      <th>weighted avg</th>\n",
       "    </tr>\n",
       "  </thead>\n",
       "  <tbody>\n",
       "    <tr>\n",
       "      <th>f1-score</th>\n",
       "      <td>0.967549</td>\n",
       "      <td>0.982456</td>\n",
       "      <td>0.941402</td>\n",
       "      <td>0.934442</td>\n",
       "      <td>0.947848</td>\n",
       "      <td>0.923777</td>\n",
       "      <td>0.959205</td>\n",
       "      <td>0.949853</td>\n",
       "      <td>0.924361</td>\n",
       "      <td>0.929323</td>\n",
       "      <td>0.9468</td>\n",
       "      <td>0.946022</td>\n",
       "      <td>0.946678</td>\n",
       "    </tr>\n",
       "    <tr>\n",
       "      <th>precision</th>\n",
       "      <td>0.947214</td>\n",
       "      <td>0.978166</td>\n",
       "      <td>0.933333</td>\n",
       "      <td>0.923598</td>\n",
       "      <td>0.942598</td>\n",
       "      <td>0.937644</td>\n",
       "      <td>0.961216</td>\n",
       "      <td>0.960239</td>\n",
       "      <td>0.939555</td>\n",
       "      <td>0.940162</td>\n",
       "      <td>0.9468</td>\n",
       "      <td>0.946372</td>\n",
       "      <td>0.946825</td>\n",
       "    </tr>\n",
       "    <tr>\n",
       "      <th>recall</th>\n",
       "      <td>0.988776</td>\n",
       "      <td>0.986784</td>\n",
       "      <td>0.949612</td>\n",
       "      <td>0.945545</td>\n",
       "      <td>0.953157</td>\n",
       "      <td>0.910314</td>\n",
       "      <td>0.957203</td>\n",
       "      <td>0.939689</td>\n",
       "      <td>0.909651</td>\n",
       "      <td>0.918731</td>\n",
       "      <td>0.9468</td>\n",
       "      <td>0.945946</td>\n",
       "      <td>0.946800</td>\n",
       "    </tr>\n",
       "    <tr>\n",
       "      <th>support</th>\n",
       "      <td>980.000000</td>\n",
       "      <td>1135.000000</td>\n",
       "      <td>1032.000000</td>\n",
       "      <td>1010.000000</td>\n",
       "      <td>982.000000</td>\n",
       "      <td>892.000000</td>\n",
       "      <td>958.000000</td>\n",
       "      <td>1028.000000</td>\n",
       "      <td>974.000000</td>\n",
       "      <td>1009.000000</td>\n",
       "      <td>10000.0000</td>\n",
       "      <td>10000.000000</td>\n",
       "      <td>10000.000000</td>\n",
       "    </tr>\n",
       "  </tbody>\n",
       "</table>\n",
       "</div>"
      ],
      "text/plain": [
       "                    0            1            2            3           4  \\\n",
       "f1-score     0.967549     0.982456     0.941402     0.934442    0.947848   \n",
       "precision    0.947214     0.978166     0.933333     0.923598    0.942598   \n",
       "recall       0.988776     0.986784     0.949612     0.945545    0.953157   \n",
       "support    980.000000  1135.000000  1032.000000  1010.000000  982.000000   \n",
       "\n",
       "                    5           6            7           8            9  \\\n",
       "f1-score     0.923777    0.959205     0.949853    0.924361     0.929323   \n",
       "precision    0.937644    0.961216     0.960239    0.939555     0.940162   \n",
       "recall       0.910314    0.957203     0.939689    0.909651     0.918731   \n",
       "support    892.000000  958.000000  1028.000000  974.000000  1009.000000   \n",
       "\n",
       "            micro avg     macro avg  weighted avg  \n",
       "f1-score       0.9468      0.946022      0.946678  \n",
       "precision      0.9468      0.946372      0.946825  \n",
       "recall         0.9468      0.945946      0.946800  \n",
       "support    10000.0000  10000.000000  10000.000000  "
      ]
     },
     "metadata": {},
     "output_type": "display_data"
    },
    {
     "name": "stdout",
     "output_type": "stream",
     "text": [
      "Ending:  2018-10-03 08:28:57.041093-07:00\n",
      "Starting:  2018-10-03 08:28:57.041157-07:00\n",
      "AdaBoostClassifier(algorithm='SAMME.R', base_estimator=None,\n",
      "          learning_rate=1.0, n_estimators=100, random_state=0)\n"
     ]
    }
   ],
   "source": [
    "print(datetime.now(tz=pst))\n",
    "class_reports = []\n",
    "for model in models:\n",
    "    print('Starting: ', datetime.now(tz=pst))\n",
    "    print(model)\n",
    "    model.fit(X_train, y_train)\n",
    "    cv_score = sk_model.cross_val_score(model, X_train, y_train, cv=5, n_jobs=10, scoring=scorer)\n",
    "    print('CV Score: Mean {0:.4f}, {1}'.format(np.mean(cv_score), np.round(cv_score, 4)))\n",
    "\n",
    "    test_preds = model.predict(X_test)\n",
    "    cr = sk_met.classification_report(y_test, test_preds, output_dict=True)\n",
    "    cr = pd.DataFrame(cr)\n",
    "    display(cr)\n",
    "    class_reports.append(cr)\n",
    "    print('Ending: ', datetime.now(tz=pst))\n",
    "    "
   ]
  },
  {
   "cell_type": "code",
   "execution_count": null,
   "metadata": {
    "ExecuteTime": {
     "end_time": "2018-10-03T15:28:02.335934Z",
     "start_time": "2018-10-03T15:27:50.685Z"
    }
   },
   "outputs": [],
   "source": []
  },
  {
   "cell_type": "code",
   "execution_count": null,
   "metadata": {},
   "outputs": [],
   "source": []
  },
  {
   "cell_type": "code",
   "execution_count": null,
   "metadata": {},
   "outputs": [],
   "source": []
  }
 ],
 "metadata": {
  "hide_input": false,
  "kernelspec": {
   "display_name": "Python 3",
   "language": "python",
   "name": "python3"
  },
  "language_info": {
   "codemirror_mode": {
    "name": "ipython",
    "version": 3
   },
   "file_extension": ".py",
   "mimetype": "text/x-python",
   "name": "python",
   "nbconvert_exporter": "python",
   "pygments_lexer": "ipython3",
   "version": "3.6.5"
  },
  "toc": {
   "base_numbering": 1,
   "nav_menu": {},
   "number_sections": true,
   "sideBar": true,
   "skip_h1_title": false,
   "title_cell": "Table of Contents",
   "title_sidebar": "Contents",
   "toc_cell": false,
   "toc_position": {},
   "toc_section_display": true,
   "toc_window_display": false
  }
 },
 "nbformat": 4,
 "nbformat_minor": 2
}
