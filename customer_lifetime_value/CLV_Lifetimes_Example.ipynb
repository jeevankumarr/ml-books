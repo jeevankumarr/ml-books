{
 "cells": [
  {
   "cell_type": "code",
   "execution_count": 8,
   "metadata": {},
   "outputs": [],
   "source": [
    "# !pip install lifetimes"
   ]
  },
  {
   "cell_type": "code",
   "execution_count": 9,
   "metadata": {},
   "outputs": [],
   "source": [
    "import matplotlib.pyplot as plt\n",
    "%matplotlib inline"
   ]
  },
  {
   "cell_type": "code",
   "execution_count": 3,
   "metadata": {},
   "outputs": [
    {
     "name": "stdout",
     "output_type": "stream",
     "text": [
      "    frequency  recency      T\n",
      "ID                           \n",
      "1           2    30.43  38.86\n",
      "2           1     1.71  38.86\n",
      "3           0     0.00  38.86\n",
      "4           0     0.00  38.86\n",
      "5           0     0.00  38.86\n"
     ]
    }
   ],
   "source": [
    "from lifetimes.datasets import load_cdnow_summary\n",
    "data = load_cdnow_summary(index_col=[0])\n",
    "\n",
    "print(data.head())"
   ]
  },
  {
   "cell_type": "code",
   "execution_count": 5,
   "metadata": {},
   "outputs": [],
   "source": [
    "from lifetimes import BetaGeoFitter"
   ]
  },
  {
   "cell_type": "code",
   "execution_count": 6,
   "metadata": {},
   "outputs": [
    {
     "name": "stdout",
     "output_type": "stream",
     "text": [
      "<lifetimes.BetaGeoFitter: fitted with 2357 subjects, a: 0.79, alpha: 4.41, b: 2.43, r: 0.24>\n"
     ]
    }
   ],
   "source": [
    "bgf = BetaGeoFitter(penalizer_coef=0.0)\n",
    "bgf.fit(data['frequency'], data['recency'], data['T'])\n",
    "print(bgf)"
   ]
  },
  {
   "cell_type": "code",
   "execution_count": 13,
   "metadata": {},
   "outputs": [
    {
     "data": {
      "image/png": "[encoded data removed]",
      "text/plain": [
       "<Figure size 576x576 with 2 Axes>"
      ]
     },
     "metadata": {},
     "output_type": "display_data"
    }
   ],
   "source": [
    "from lifetimes.plotting import plot_frequency_recency_matrix\n",
    "\n",
    "plot_frequency_recency_matrix(bgf)\n",
    "plt.gcf().set_size_inches(8,8)"
   ]
  },
  {
   "cell_type": "code",
   "execution_count": 14,
   "metadata": {},
   "outputs": [
    {
     "data": {
      "text/html": [
       "<div>\n",
       "<style scoped>\n",
       "    .dataframe tbody tr th:only-of-type {\n",
       "        vertical-align: middle;\n",
       "    }\n",
       "\n",
       "    .dataframe tbody tr th {\n",
       "        vertical-align: top;\n",
       "    }\n",
       "\n",
       "    .dataframe thead th {\n",
       "        text-align: right;\n",
       "    }\n",
       "</style>\n",
       "<table border=\"1\" class=\"dataframe\">\n",
       "  <thead>\n",
       "    <tr style=\"text-align: right;\">\n",
       "      <th></th>\n",
       "      <th>frequency</th>\n",
       "      <th>recency</th>\n",
       "      <th>T</th>\n",
       "      <th>predicted_purchases</th>\n",
       "    </tr>\n",
       "    <tr>\n",
       "      <th>ID</th>\n",
       "      <th></th>\n",
       "      <th></th>\n",
       "      <th></th>\n",
       "      <th></th>\n",
       "    </tr>\n",
       "  </thead>\n",
       "  <tbody>\n",
       "    <tr>\n",
       "      <th>509</th>\n",
       "      <td>18</td>\n",
       "      <td>35.14</td>\n",
       "      <td>35.86</td>\n",
       "      <td>0.424877</td>\n",
       "    </tr>\n",
       "    <tr>\n",
       "      <th>841</th>\n",
       "      <td>19</td>\n",
       "      <td>34.00</td>\n",
       "      <td>34.14</td>\n",
       "      <td>0.474738</td>\n",
       "    </tr>\n",
       "    <tr>\n",
       "      <th>1981</th>\n",
       "      <td>17</td>\n",
       "      <td>28.43</td>\n",
       "      <td>28.86</td>\n",
       "      <td>0.486526</td>\n",
       "    </tr>\n",
       "    <tr>\n",
       "      <th>157</th>\n",
       "      <td>29</td>\n",
       "      <td>37.71</td>\n",
       "      <td>38.00</td>\n",
       "      <td>0.662396</td>\n",
       "    </tr>\n",
       "    <tr>\n",
       "      <th>1516</th>\n",
       "      <td>26</td>\n",
       "      <td>30.86</td>\n",
       "      <td>31.00</td>\n",
       "      <td>0.710623</td>\n",
       "    </tr>\n",
       "  </tbody>\n",
       "</table>\n",
       "</div>"
      ],
      "text/plain": [
       "      frequency  recency      T  predicted_purchases\n",
       "ID                                                  \n",
       "509          18    35.14  35.86             0.424877\n",
       "841          19    34.00  34.14             0.474738\n",
       "1981         17    28.43  28.86             0.486526\n",
       "157          29    37.71  38.00             0.662396\n",
       "1516         26    30.86  31.00             0.710623"
      ]
     },
     "execution_count": 14,
     "metadata": {},
     "output_type": "execute_result"
    }
   ],
   "source": [
    "t = 1\n",
    "data['predicted_purchases'] = bgf.conditional_expected_number_of_purchases_up_to_time(t, data['frequency'], data['recency'], data['T'])\n",
    "data.sort_values(by='predicted_purchases').tail(5)\n"
   ]
  },
  {
   "cell_type": "code",
   "execution_count": 15,
   "metadata": {},
   "outputs": [
    {
     "data": {
      "text/plain": [
       "<matplotlib.axes._subplots.AxesSubplot at 0x1a1bd32470>"
      ]
     },
     "execution_count": 15,
     "metadata": {},
     "output_type": "execute_result"
    },
    {
     "data": {
      "image/png": "[encoded data removed]",
      "text/plain": [
       "<Figure size 432x288 with 1 Axes>"
      ]
     },
     "metadata": {},
     "output_type": "display_data"
    }
   ],
   "source": [
    "from lifetimes.plotting import plot_period_transactions\n",
    "plot_period_transactions(bgf)\n"
   ]
  },
  {
   "cell_type": "code",
   "execution_count": 16,
   "metadata": {},
   "outputs": [
    {
     "name": "stdout",
     "output_type": "stream",
     "text": [
      "                  date  id\n",
      "0  2014-03-08 00:00:00   0\n",
      "1  2014-05-21 00:00:00   1\n",
      "2  2014-03-14 00:00:00   2\n",
      "3  2014-04-09 00:00:00   2\n",
      "4  2014-05-21 00:00:00   2\n"
     ]
    }
   ],
   "source": [
    "from lifetimes.datasets import load_transaction_data\n",
    "from lifetimes.utils import summary_data_from_transaction_data\n",
    "\n",
    "transaction_data = load_transaction_data()\n",
    "print(transaction_data.head())"
   ]
  },
  {
   "cell_type": "code",
   "execution_count": 18,
   "metadata": {},
   "outputs": [
    {
     "data": {
      "text/html": [
       "<div>\n",
       "<style scoped>\n",
       "    .dataframe tbody tr th:only-of-type {\n",
       "        vertical-align: middle;\n",
       "    }\n",
       "\n",
       "    .dataframe tbody tr th {\n",
       "        vertical-align: top;\n",
       "    }\n",
       "\n",
       "    .dataframe thead th {\n",
       "        text-align: right;\n",
       "    }\n",
       "</style>\n",
       "<table border=\"1\" class=\"dataframe\">\n",
       "  <thead>\n",
       "    <tr style=\"text-align: right;\">\n",
       "      <th></th>\n",
       "      <th>frequency</th>\n",
       "      <th>recency</th>\n",
       "      <th>T</th>\n",
       "    </tr>\n",
       "    <tr>\n",
       "      <th>id</th>\n",
       "      <th></th>\n",
       "      <th></th>\n",
       "      <th></th>\n",
       "    </tr>\n",
       "  </thead>\n",
       "  <tbody>\n",
       "    <tr>\n",
       "      <th>0</th>\n",
       "      <td>0.0</td>\n",
       "      <td>0.0</td>\n",
       "      <td>298.0</td>\n",
       "    </tr>\n",
       "    <tr>\n",
       "      <th>1</th>\n",
       "      <td>0.0</td>\n",
       "      <td>0.0</td>\n",
       "      <td>224.0</td>\n",
       "    </tr>\n",
       "    <tr>\n",
       "      <th>2</th>\n",
       "      <td>6.0</td>\n",
       "      <td>142.0</td>\n",
       "      <td>292.0</td>\n",
       "    </tr>\n",
       "    <tr>\n",
       "      <th>3</th>\n",
       "      <td>0.0</td>\n",
       "      <td>0.0</td>\n",
       "      <td>147.0</td>\n",
       "    </tr>\n",
       "    <tr>\n",
       "      <th>4</th>\n",
       "      <td>2.0</td>\n",
       "      <td>9.0</td>\n",
       "      <td>183.0</td>\n",
       "    </tr>\n",
       "  </tbody>\n",
       "</table>\n",
       "</div>"
      ],
      "text/plain": [
       "    frequency  recency      T\n",
       "id                           \n",
       "0         0.0      0.0  298.0\n",
       "1         0.0      0.0  224.0\n",
       "2         6.0    142.0  292.0\n",
       "3         0.0      0.0  147.0\n",
       "4         2.0      9.0  183.0"
      ]
     },
     "execution_count": 18,
     "metadata": {},
     "output_type": "execute_result"
    }
   ],
   "source": [
    "\n",
    "summary = summary_data_from_transaction_data(transaction_data, 'id', 'date', observation_period_end='2014-12-31')\n",
    "\n",
    "summary.head()"
   ]
  },
  {
   "cell_type": "code",
   "execution_count": 19,
   "metadata": {},
   "outputs": [
    {
     "data": {
      "text/plain": [
       "<lifetimes.BetaGeoFitter: fitted with 5000 subjects, a: 1.85, alpha: 1.86, b: 3.18, r: 0.16>"
      ]
     },
     "execution_count": 19,
     "metadata": {},
     "output_type": "execute_result"
    }
   ],
   "source": [
    "bgf.fit(summary['frequency'], summary['recency'], summary['T'])"
   ]
  },
  {
   "cell_type": "code",
   "execution_count": 53,
   "metadata": {},
   "outputs": [
    {
     "data": {
      "text/html": [
       "<div>\n",
       "<style scoped>\n",
       "    .dataframe tbody tr th:only-of-type {\n",
       "        vertical-align: middle;\n",
       "    }\n",
       "\n",
       "    .dataframe tbody tr th {\n",
       "        vertical-align: top;\n",
       "    }\n",
       "\n",
       "    .dataframe thead th {\n",
       "        text-align: right;\n",
       "    }\n",
       "</style>\n",
       "<table border=\"1\" class=\"dataframe\">\n",
       "  <thead>\n",
       "    <tr style=\"text-align: right;\">\n",
       "      <th></th>\n",
       "      <th>frequency_cal</th>\n",
       "      <th>recency_cal</th>\n",
       "      <th>T_cal</th>\n",
       "      <th>frequency_holdout</th>\n",
       "      <th>duration_holdout</th>\n",
       "    </tr>\n",
       "    <tr>\n",
       "      <th>id</th>\n",
       "      <th></th>\n",
       "      <th></th>\n",
       "      <th></th>\n",
       "      <th></th>\n",
       "      <th></th>\n",
       "    </tr>\n",
       "  </thead>\n",
       "  <tbody>\n",
       "    <tr>\n",
       "      <th>0</th>\n",
       "      <td>0.0</td>\n",
       "      <td>0.0</td>\n",
       "      <td>177.0</td>\n",
       "      <td>0.0</td>\n",
       "      <td>121</td>\n",
       "    </tr>\n",
       "    <tr>\n",
       "      <th>1</th>\n",
       "      <td>0.0</td>\n",
       "      <td>0.0</td>\n",
       "      <td>103.0</td>\n",
       "      <td>0.0</td>\n",
       "      <td>121</td>\n",
       "    </tr>\n",
       "    <tr>\n",
       "      <th>2</th>\n",
       "      <td>6.0</td>\n",
       "      <td>142.0</td>\n",
       "      <td>171.0</td>\n",
       "      <td>0.0</td>\n",
       "      <td>121</td>\n",
       "    </tr>\n",
       "    <tr>\n",
       "      <th>3</th>\n",
       "      <td>0.0</td>\n",
       "      <td>0.0</td>\n",
       "      <td>26.0</td>\n",
       "      <td>0.0</td>\n",
       "      <td>121</td>\n",
       "    </tr>\n",
       "    <tr>\n",
       "      <th>4</th>\n",
       "      <td>2.0</td>\n",
       "      <td>9.0</td>\n",
       "      <td>62.0</td>\n",
       "      <td>0.0</td>\n",
       "      <td>121</td>\n",
       "    </tr>\n",
       "  </tbody>\n",
       "</table>\n",
       "</div>"
      ],
      "text/plain": [
       "    frequency_cal  recency_cal  T_cal  frequency_holdout  duration_holdout\n",
       "id                                                                        \n",
       "0             0.0          0.0  177.0                0.0               121\n",
       "1             0.0          0.0  103.0                0.0               121\n",
       "2             6.0        142.0  171.0                0.0               121\n",
       "3             0.0          0.0   26.0                0.0               121\n",
       "4             2.0          9.0   62.0                0.0               121"
      ]
     },
     "execution_count": 53,
     "metadata": {},
     "output_type": "execute_result"
    }
   ],
   "source": [
    "from lifetimes.utils import calibration_and_holdout_data\n",
    "\n",
    "summary_cal_holdout = calibration_and_holdout_data(transaction_data, 'id', 'date',\n",
    "                                        calibration_period_end='2014-09-01',\n",
    "                                        observation_period_end='2014-12-31' )   \n",
    "summary_cal_holdout.head()"
   ]
  },
  {
   "cell_type": "code",
   "execution_count": 34,
   "metadata": {},
   "outputs": [
    {
     "data": {
      "text/html": [
       "<div>\n",
       "<style scoped>\n",
       "    .dataframe tbody tr th:only-of-type {\n",
       "        vertical-align: middle;\n",
       "    }\n",
       "\n",
       "    .dataframe tbody tr th {\n",
       "        vertical-align: top;\n",
       "    }\n",
       "\n",
       "    .dataframe thead th {\n",
       "        text-align: right;\n",
       "    }\n",
       "</style>\n",
       "<table border=\"1\" class=\"dataframe\">\n",
       "  <thead>\n",
       "    <tr style=\"text-align: right;\">\n",
       "      <th></th>\n",
       "      <th>date</th>\n",
       "      <th>id</th>\n",
       "    </tr>\n",
       "  </thead>\n",
       "  <tbody>\n",
       "    <tr>\n",
       "      <th>0</th>\n",
       "      <td>2014-03-08 00:00:00</td>\n",
       "      <td>0</td>\n",
       "    </tr>\n",
       "    <tr>\n",
       "      <th>1</th>\n",
       "      <td>2014-05-21 00:00:00</td>\n",
       "      <td>1</td>\n",
       "    </tr>\n",
       "    <tr>\n",
       "      <th>2</th>\n",
       "      <td>2014-03-14 00:00:00</td>\n",
       "      <td>2</td>\n",
       "    </tr>\n",
       "    <tr>\n",
       "      <th>3</th>\n",
       "      <td>2014-04-09 00:00:00</td>\n",
       "      <td>2</td>\n",
       "    </tr>\n",
       "    <tr>\n",
       "      <th>4</th>\n",
       "      <td>2014-05-21 00:00:00</td>\n",
       "      <td>2</td>\n",
       "    </tr>\n",
       "  </tbody>\n",
       "</table>\n",
       "</div>"
      ],
      "text/plain": [
       "                  date  id\n",
       "0  2014-03-08 00:00:00   0\n",
       "1  2014-05-21 00:00:00   1\n",
       "2  2014-03-14 00:00:00   2\n",
       "3  2014-04-09 00:00:00   2\n",
       "4  2014-05-21 00:00:00   2"
      ]
     },
     "execution_count": 34,
     "metadata": {},
     "output_type": "execute_result"
    }
   ],
   "source": [
    "transaction_data.head()"
   ]
  },
  {
   "cell_type": "code",
   "execution_count": 55,
   "metadata": {},
   "outputs": [],
   "source": [
    "import pandas as pd\n",
    "datetime_col = 'date'\n",
    "customer_id_col = 'id'\n",
    "datetime_format = None\n",
    "\n",
    "calibration_period_end = '2014-09-01'\n",
    "observation_period_end = '2014-12-31'\n",
    "\n",
    "freq = 'D'\n",
    "transactions = transaction_data\n",
    "transaction_cols = [customer_id_col, datetime_col]\n",
    "transactions = transactions[transaction_cols].copy()\n",
    "\n",
    "\n",
    "transactions[datetime_col] = pd.to_datetime(transactions[datetime_col], format=datetime_format)\n",
    "observation_period_end = pd.to_datetime(observation_period_end, format=datetime_format)\n",
    "calibration_period_end = pd.to_datetime(calibration_period_end, format=datetime_format)\n",
    "\n",
    "calibration_transactions = transactions.loc[transactions[datetime_col] <= calibration_period_end]\n",
    "holdout_transactions = transactions.loc[(observation_period_end >= transactions[datetime_col]) & (transactions[datetime_col] > calibration_period_end)]"
   ]
  },
  {
   "cell_type": "code",
   "execution_count": 51,
   "metadata": {},
   "outputs": [
    {
     "data": {
      "text/html": [
       "<div>\n",
       "<style scoped>\n",
       "    .dataframe tbody tr th:only-of-type {\n",
       "        vertical-align: middle;\n",
       "    }\n",
       "\n",
       "    .dataframe tbody tr th {\n",
       "        vertical-align: top;\n",
       "    }\n",
       "\n",
       "    .dataframe thead th {\n",
       "        text-align: right;\n",
       "    }\n",
       "</style>\n",
       "<table border=\"1\" class=\"dataframe\">\n",
       "  <thead>\n",
       "    <tr style=\"text-align: right;\">\n",
       "      <th></th>\n",
       "      <th>id</th>\n",
       "      <th>date</th>\n",
       "    </tr>\n",
       "  </thead>\n",
       "  <tbody>\n",
       "    <tr>\n",
       "      <th>count</th>\n",
       "      <td>13202.000000</td>\n",
       "      <td>13202</td>\n",
       "    </tr>\n",
       "    <tr>\n",
       "      <th>unique</th>\n",
       "      <td>NaN</td>\n",
       "      <td>244</td>\n",
       "    </tr>\n",
       "    <tr>\n",
       "      <th>top</th>\n",
       "      <td>NaN</td>\n",
       "      <td>2014-08-12 00:00:00</td>\n",
       "    </tr>\n",
       "    <tr>\n",
       "      <th>freq</th>\n",
       "      <td>NaN</td>\n",
       "      <td>86</td>\n",
       "    </tr>\n",
       "    <tr>\n",
       "      <th>first</th>\n",
       "      <td>NaN</td>\n",
       "      <td>2014-01-01 00:00:00</td>\n",
       "    </tr>\n",
       "    <tr>\n",
       "      <th>last</th>\n",
       "      <td>NaN</td>\n",
       "      <td>2014-09-01 00:00:00</td>\n",
       "    </tr>\n",
       "    <tr>\n",
       "      <th>mean</th>\n",
       "      <td>2513.836161</td>\n",
       "      <td>NaN</td>\n",
       "    </tr>\n",
       "    <tr>\n",
       "      <th>std</th>\n",
       "      <td>1441.940888</td>\n",
       "      <td>NaN</td>\n",
       "    </tr>\n",
       "    <tr>\n",
       "      <th>min</th>\n",
       "      <td>0.000000</td>\n",
       "      <td>NaN</td>\n",
       "    </tr>\n",
       "    <tr>\n",
       "      <th>25%</th>\n",
       "      <td>1281.000000</td>\n",
       "      <td>NaN</td>\n",
       "    </tr>\n",
       "    <tr>\n",
       "      <th>50%</th>\n",
       "      <td>2485.000000</td>\n",
       "      <td>NaN</td>\n",
       "    </tr>\n",
       "    <tr>\n",
       "      <th>75%</th>\n",
       "      <td>3758.000000</td>\n",
       "      <td>NaN</td>\n",
       "    </tr>\n",
       "    <tr>\n",
       "      <th>max</th>\n",
       "      <td>4999.000000</td>\n",
       "      <td>NaN</td>\n",
       "    </tr>\n",
       "  </tbody>\n",
       "</table>\n",
       "</div>"
      ],
      "text/plain": [
       "                  id                 date\n",
       "count   13202.000000                13202\n",
       "unique           NaN                  244\n",
       "top              NaN  2014-08-12 00:00:00\n",
       "freq             NaN                   86\n",
       "first            NaN  2014-01-01 00:00:00\n",
       "last             NaN  2014-09-01 00:00:00\n",
       "mean     2513.836161                  NaN\n",
       "std      1441.940888                  NaN\n",
       "min         0.000000                  NaN\n",
       "25%      1281.000000                  NaN\n",
       "50%      2485.000000                  NaN\n",
       "75%      3758.000000                  NaN\n",
       "max      4999.000000                  NaN"
      ]
     },
     "execution_count": 51,
     "metadata": {},
     "output_type": "execute_result"
    }
   ],
   "source": [
    "calibration_transactions.describe(include='all')"
   ]
  },
  {
   "cell_type": "code",
   "execution_count": 50,
   "metadata": {},
   "outputs": [
    {
     "data": {
      "text/html": [
       "<div>\n",
       "<style scoped>\n",
       "    .dataframe tbody tr th:only-of-type {\n",
       "        vertical-align: middle;\n",
       "    }\n",
       "\n",
       "    .dataframe tbody tr th {\n",
       "        vertical-align: top;\n",
       "    }\n",
       "\n",
       "    .dataframe thead th {\n",
       "        text-align: right;\n",
       "    }\n",
       "</style>\n",
       "<table border=\"1\" class=\"dataframe\">\n",
       "  <thead>\n",
       "    <tr style=\"text-align: right;\">\n",
       "      <th></th>\n",
       "      <th>id</th>\n",
       "      <th>date</th>\n",
       "    </tr>\n",
       "  </thead>\n",
       "  <tbody>\n",
       "    <tr>\n",
       "      <th>count</th>\n",
       "      <td>2071.000000</td>\n",
       "      <td>2071</td>\n",
       "    </tr>\n",
       "    <tr>\n",
       "      <th>unique</th>\n",
       "      <td>NaN</td>\n",
       "      <td>121</td>\n",
       "    </tr>\n",
       "    <tr>\n",
       "      <th>top</th>\n",
       "      <td>NaN</td>\n",
       "      <td>2014-09-03 00:00:00</td>\n",
       "    </tr>\n",
       "    <tr>\n",
       "      <th>freq</th>\n",
       "      <td>NaN</td>\n",
       "      <td>56</td>\n",
       "    </tr>\n",
       "    <tr>\n",
       "      <th>first</th>\n",
       "      <td>NaN</td>\n",
       "      <td>2014-09-02 00:00:00</td>\n",
       "    </tr>\n",
       "    <tr>\n",
       "      <th>last</th>\n",
       "      <td>NaN</td>\n",
       "      <td>2014-12-31 00:00:00</td>\n",
       "    </tr>\n",
       "    <tr>\n",
       "      <th>mean</th>\n",
       "      <td>2545.085949</td>\n",
       "      <td>NaN</td>\n",
       "    </tr>\n",
       "    <tr>\n",
       "      <th>std</th>\n",
       "      <td>1505.269160</td>\n",
       "      <td>NaN</td>\n",
       "    </tr>\n",
       "    <tr>\n",
       "      <th>min</th>\n",
       "      <td>20.000000</td>\n",
       "      <td>NaN</td>\n",
       "    </tr>\n",
       "    <tr>\n",
       "      <th>25%</th>\n",
       "      <td>1268.000000</td>\n",
       "      <td>NaN</td>\n",
       "    </tr>\n",
       "    <tr>\n",
       "      <th>50%</th>\n",
       "      <td>2325.000000</td>\n",
       "      <td>NaN</td>\n",
       "    </tr>\n",
       "    <tr>\n",
       "      <th>75%</th>\n",
       "      <td>3856.000000</td>\n",
       "      <td>NaN</td>\n",
       "    </tr>\n",
       "    <tr>\n",
       "      <th>max</th>\n",
       "      <td>4993.000000</td>\n",
       "      <td>NaN</td>\n",
       "    </tr>\n",
       "  </tbody>\n",
       "</table>\n",
       "</div>"
      ],
      "text/plain": [
       "                 id                 date\n",
       "count   2071.000000                 2071\n",
       "unique          NaN                  121\n",
       "top             NaN  2014-09-03 00:00:00\n",
       "freq            NaN                   56\n",
       "first           NaN  2014-09-02 00:00:00\n",
       "last            NaN  2014-12-31 00:00:00\n",
       "mean    2545.085949                  NaN\n",
       "std     1505.269160                  NaN\n",
       "min       20.000000                  NaN\n",
       "25%     1268.000000                  NaN\n",
       "50%     2325.000000                  NaN\n",
       "75%     3856.000000                  NaN\n",
       "max     4993.000000                  NaN"
      ]
     },
     "execution_count": 50,
     "metadata": {},
     "output_type": "execute_result"
    }
   ],
   "source": [
    "holdout_transactions.describe(include='all')"
   ]
  },
  {
   "cell_type": "code",
   "execution_count": null,
   "metadata": {},
   "outputs": [],
   "source": []
  },
  {
   "cell_type": "code",
   "execution_count": 67,
   "metadata": {},
   "outputs": [],
   "source": [
    "calibration_summary_data = summary_data_from_transaction_data(calibration_transactions,\n",
    "                                                              customer_id_col,\n",
    "                                                              datetime_col,\n",
    "                                                              datetime_format=datetime_format,\n",
    "                                                              observation_period_end=calibration_period_end,\n",
    "                                                              freq=freq)\n",
    "calibration_summary_data.columns = [c + '_cal' for c in calibration_summary_data.columns]\n",
    "holdout_summary_data = holdout_transactions.groupby([customer_id_col, datetime_col], sort=False).agg(lambda r: 1)\\\n",
    "                                               .groupby(level=customer_id_col).agg(['count'])\n",
    "holdout_summary_data.columns = ['frequency_holdout']\n",
    "delta_time = observation_period_end.to_period(freq) - calibration_period_end.to_period(freq)\n",
    "calibration_summary_data['duration_holdout'] = delta_time"
   ]
  },
  {
   "cell_type": "code",
   "execution_count": 68,
   "metadata": {},
   "outputs": [
    {
     "data": {
      "text/html": [
       "<div>\n",
       "<style scoped>\n",
       "    .dataframe tbody tr th:only-of-type {\n",
       "        vertical-align: middle;\n",
       "    }\n",
       "\n",
       "    .dataframe tbody tr th {\n",
       "        vertical-align: top;\n",
       "    }\n",
       "\n",
       "    .dataframe thead th {\n",
       "        text-align: right;\n",
       "    }\n",
       "</style>\n",
       "<table border=\"1\" class=\"dataframe\">\n",
       "  <thead>\n",
       "    <tr style=\"text-align: right;\">\n",
       "      <th></th>\n",
       "      <th>frequency_cal</th>\n",
       "      <th>recency_cal</th>\n",
       "      <th>T_cal</th>\n",
       "      <th>duration_holdout</th>\n",
       "    </tr>\n",
       "    <tr>\n",
       "      <th>id</th>\n",
       "      <th></th>\n",
       "      <th></th>\n",
       "      <th></th>\n",
       "      <th></th>\n",
       "    </tr>\n",
       "  </thead>\n",
       "  <tbody>\n",
       "    <tr>\n",
       "      <th>0</th>\n",
       "      <td>0.0</td>\n",
       "      <td>0.0</td>\n",
       "      <td>177.0</td>\n",
       "      <td>121</td>\n",
       "    </tr>\n",
       "    <tr>\n",
       "      <th>1</th>\n",
       "      <td>0.0</td>\n",
       "      <td>0.0</td>\n",
       "      <td>103.0</td>\n",
       "      <td>121</td>\n",
       "    </tr>\n",
       "    <tr>\n",
       "      <th>2</th>\n",
       "      <td>6.0</td>\n",
       "      <td>142.0</td>\n",
       "      <td>171.0</td>\n",
       "      <td>121</td>\n",
       "    </tr>\n",
       "    <tr>\n",
       "      <th>3</th>\n",
       "      <td>0.0</td>\n",
       "      <td>0.0</td>\n",
       "      <td>26.0</td>\n",
       "      <td>121</td>\n",
       "    </tr>\n",
       "    <tr>\n",
       "      <th>4</th>\n",
       "      <td>2.0</td>\n",
       "      <td>9.0</td>\n",
       "      <td>62.0</td>\n",
       "      <td>121</td>\n",
       "    </tr>\n",
       "  </tbody>\n",
       "</table>\n",
       "</div>"
      ],
      "text/plain": [
       "    frequency_cal  recency_cal  T_cal  duration_holdout\n",
       "id                                                     \n",
       "0             0.0          0.0  177.0               121\n",
       "1             0.0          0.0  103.0               121\n",
       "2             6.0        142.0  171.0               121\n",
       "3             0.0          0.0   26.0               121\n",
       "4             2.0          9.0   62.0               121"
      ]
     },
     "execution_count": 68,
     "metadata": {},
     "output_type": "execute_result"
    }
   ],
   "source": [
    "calibration_summary_data.head()"
   ]
  },
  {
   "cell_type": "code",
   "execution_count": 58,
   "metadata": {},
   "outputs": [
    {
     "data": {
      "text/html": [
       "<div>\n",
       "<style scoped>\n",
       "    .dataframe tbody tr th:only-of-type {\n",
       "        vertical-align: middle;\n",
       "    }\n",
       "\n",
       "    .dataframe tbody tr th {\n",
       "        vertical-align: top;\n",
       "    }\n",
       "\n",
       "    .dataframe thead th {\n",
       "        text-align: right;\n",
       "    }\n",
       "</style>\n",
       "<table border=\"1\" class=\"dataframe\">\n",
       "  <thead>\n",
       "    <tr style=\"text-align: right;\">\n",
       "      <th></th>\n",
       "      <th>frequency_holdout</th>\n",
       "    </tr>\n",
       "    <tr>\n",
       "      <th>id</th>\n",
       "      <th></th>\n",
       "    </tr>\n",
       "  </thead>\n",
       "  <tbody>\n",
       "    <tr>\n",
       "      <th>20</th>\n",
       "      <td>2</td>\n",
       "    </tr>\n",
       "    <tr>\n",
       "      <th>22</th>\n",
       "      <td>3</td>\n",
       "    </tr>\n",
       "    <tr>\n",
       "      <th>35</th>\n",
       "      <td>9</td>\n",
       "    </tr>\n",
       "    <tr>\n",
       "      <th>84</th>\n",
       "      <td>3</td>\n",
       "    </tr>\n",
       "    <tr>\n",
       "      <th>88</th>\n",
       "      <td>4</td>\n",
       "    </tr>\n",
       "  </tbody>\n",
       "</table>\n",
       "</div>"
      ],
      "text/plain": [
       "    frequency_holdout\n",
       "id                   \n",
       "20                  2\n",
       "22                  3\n",
       "35                  9\n",
       "84                  3\n",
       "88                  4"
      ]
     },
     "execution_count": 58,
     "metadata": {},
     "output_type": "execute_result"
    }
   ],
   "source": [
    "holdout_summary_data.head()"
   ]
  },
  {
   "cell_type": "code",
   "execution_count": 59,
   "metadata": {},
   "outputs": [
    {
     "data": {
      "text/plain": [
       "<lifetimes.BetaGeoFitter: fitted with 5000 subjects, a: 1.96, alpha: 2.26, b: 3.48, r: 0.19>"
      ]
     },
     "execution_count": 59,
     "metadata": {},
     "output_type": "execute_result"
    }
   ],
   "source": [
    "bgf.fit(calibration_summary_data['frequency_cal'], calibration_summary_data['recency_cal'], calibration_summary_data['T_cal'])\n"
   ]
  },
  {
   "cell_type": "code",
   "execution_count": 69,
   "metadata": {},
   "outputs": [],
   "source": [
    "summary = calibration_summary_data\n",
    "model = bgf\n",
    "duration_holdout = summary.iloc[0]['duration_holdout']\n",
    "summary['model_predictions'] = summary.apply(lambda r: model.conditional_expected_number_of_purchases_up_to_time(duration_holdout, r['frequency_cal'], r['recency_cal'], r['T_cal']), axis=1)"
   ]
  },
  {
   "cell_type": "code",
   "execution_count": 70,
   "metadata": {},
   "outputs": [
    {
     "data": {
      "text/html": [
       "<div>\n",
       "<style scoped>\n",
       "    .dataframe tbody tr th:only-of-type {\n",
       "        vertical-align: middle;\n",
       "    }\n",
       "\n",
       "    .dataframe tbody tr th {\n",
       "        vertical-align: top;\n",
       "    }\n",
       "\n",
       "    .dataframe thead th {\n",
       "        text-align: right;\n",
       "    }\n",
       "</style>\n",
       "<table border=\"1\" class=\"dataframe\">\n",
       "  <thead>\n",
       "    <tr style=\"text-align: right;\">\n",
       "      <th></th>\n",
       "      <th>frequency_cal</th>\n",
       "      <th>recency_cal</th>\n",
       "      <th>T_cal</th>\n",
       "      <th>duration_holdout</th>\n",
       "      <th>model_predictions</th>\n",
       "    </tr>\n",
       "    <tr>\n",
       "      <th>id</th>\n",
       "      <th></th>\n",
       "      <th></th>\n",
       "      <th></th>\n",
       "      <th></th>\n",
       "      <th></th>\n",
       "    </tr>\n",
       "  </thead>\n",
       "  <tbody>\n",
       "    <tr>\n",
       "      <th>0</th>\n",
       "      <td>0.0</td>\n",
       "      <td>0.0</td>\n",
       "      <td>177.0</td>\n",
       "      <td>121</td>\n",
       "      <td>0.112786</td>\n",
       "    </tr>\n",
       "    <tr>\n",
       "      <th>1</th>\n",
       "      <td>0.0</td>\n",
       "      <td>0.0</td>\n",
       "      <td>103.0</td>\n",
       "      <td>121</td>\n",
       "      <td>0.178463</td>\n",
       "    </tr>\n",
       "    <tr>\n",
       "      <th>2</th>\n",
       "      <td>6.0</td>\n",
       "      <td>142.0</td>\n",
       "      <td>171.0</td>\n",
       "      <td>121</td>\n",
       "      <td>1.767622</td>\n",
       "    </tr>\n",
       "    <tr>\n",
       "      <th>3</th>\n",
       "      <td>0.0</td>\n",
       "      <td>0.0</td>\n",
       "      <td>26.0</td>\n",
       "      <td>121</td>\n",
       "      <td>0.475414</td>\n",
       "    </tr>\n",
       "    <tr>\n",
       "      <th>4</th>\n",
       "      <td>2.0</td>\n",
       "      <td>9.0</td>\n",
       "      <td>62.0</td>\n",
       "      <td>121</td>\n",
       "      <td>0.114192</td>\n",
       "    </tr>\n",
       "  </tbody>\n",
       "</table>\n",
       "</div>"
      ],
      "text/plain": [
       "    frequency_cal  recency_cal  T_cal  duration_holdout  model_predictions\n",
       "id                                                                        \n",
       "0             0.0          0.0  177.0               121           0.112786\n",
       "1             0.0          0.0  103.0               121           0.178463\n",
       "2             6.0        142.0  171.0               121           1.767622\n",
       "3             0.0          0.0   26.0               121           0.475414\n",
       "4             2.0          9.0   62.0               121           0.114192"
      ]
     },
     "execution_count": 70,
     "metadata": {},
     "output_type": "execute_result"
    }
   ],
   "source": [
    "summary.head()"
   ]
  },
  {
   "cell_type": "code",
   "execution_count": 71,
   "metadata": {},
   "outputs": [
    {
     "data": {
      "text/html": [
       "<div>\n",
       "<style scoped>\n",
       "    .dataframe tbody tr th:only-of-type {\n",
       "        vertical-align: middle;\n",
       "    }\n",
       "\n",
       "    .dataframe tbody tr th {\n",
       "        vertical-align: top;\n",
       "    }\n",
       "\n",
       "    .dataframe thead th {\n",
       "        text-align: right;\n",
       "    }\n",
       "</style>\n",
       "<table border=\"1\" class=\"dataframe\">\n",
       "  <thead>\n",
       "    <tr style=\"text-align: right;\">\n",
       "      <th></th>\n",
       "      <th>frequency_holdout</th>\n",
       "    </tr>\n",
       "    <tr>\n",
       "      <th>id</th>\n",
       "      <th></th>\n",
       "    </tr>\n",
       "  </thead>\n",
       "  <tbody>\n",
       "    <tr>\n",
       "      <th>20</th>\n",
       "      <td>2</td>\n",
       "    </tr>\n",
       "    <tr>\n",
       "      <th>22</th>\n",
       "      <td>3</td>\n",
       "    </tr>\n",
       "    <tr>\n",
       "      <th>35</th>\n",
       "      <td>9</td>\n",
       "    </tr>\n",
       "    <tr>\n",
       "      <th>84</th>\n",
       "      <td>3</td>\n",
       "    </tr>\n",
       "    <tr>\n",
       "      <th>88</th>\n",
       "      <td>4</td>\n",
       "    </tr>\n",
       "  </tbody>\n",
       "</table>\n",
       "</div>"
      ],
      "text/plain": [
       "    frequency_holdout\n",
       "id                   \n",
       "20                  2\n",
       "22                  3\n",
       "35                  9\n",
       "84                  3\n",
       "88                  4"
      ]
     },
     "execution_count": 71,
     "metadata": {},
     "output_type": "execute_result"
    }
   ],
   "source": [
    "holdout_summary_data.head()"
   ]
  },
  {
   "cell_type": "code",
   "execution_count": 72,
   "metadata": {},
   "outputs": [],
   "source": [
    "full_summ = calibration_summary_data.join(holdout_summary_data, how='left')\n",
    "full_summ.fillna(0, inplace=True)"
   ]
  },
  {
   "cell_type": "code",
   "execution_count": 73,
   "metadata": {},
   "outputs": [
    {
     "data": {
      "text/html": [
       "<div>\n",
       "<style scoped>\n",
       "    .dataframe tbody tr th:only-of-type {\n",
       "        vertical-align: middle;\n",
       "    }\n",
       "\n",
       "    .dataframe tbody tr th {\n",
       "        vertical-align: top;\n",
       "    }\n",
       "\n",
       "    .dataframe thead th {\n",
       "        text-align: right;\n",
       "    }\n",
       "</style>\n",
       "<table border=\"1\" class=\"dataframe\">\n",
       "  <thead>\n",
       "    <tr style=\"text-align: right;\">\n",
       "      <th></th>\n",
       "      <th>frequency_cal</th>\n",
       "      <th>recency_cal</th>\n",
       "      <th>T_cal</th>\n",
       "      <th>duration_holdout</th>\n",
       "      <th>model_predictions</th>\n",
       "      <th>frequency_holdout</th>\n",
       "    </tr>\n",
       "    <tr>\n",
       "      <th>id</th>\n",
       "      <th></th>\n",
       "      <th></th>\n",
       "      <th></th>\n",
       "      <th></th>\n",
       "      <th></th>\n",
       "      <th></th>\n",
       "    </tr>\n",
       "  </thead>\n",
       "  <tbody>\n",
       "    <tr>\n",
       "      <th>0</th>\n",
       "      <td>0.0</td>\n",
       "      <td>0.0</td>\n",
       "      <td>177.0</td>\n",
       "      <td>121</td>\n",
       "      <td>0.112786</td>\n",
       "      <td>0.0</td>\n",
       "    </tr>\n",
       "    <tr>\n",
       "      <th>1</th>\n",
       "      <td>0.0</td>\n",
       "      <td>0.0</td>\n",
       "      <td>103.0</td>\n",
       "      <td>121</td>\n",
       "      <td>0.178463</td>\n",
       "      <td>0.0</td>\n",
       "    </tr>\n",
       "    <tr>\n",
       "      <th>2</th>\n",
       "      <td>6.0</td>\n",
       "      <td>142.0</td>\n",
       "      <td>171.0</td>\n",
       "      <td>121</td>\n",
       "      <td>1.767622</td>\n",
       "      <td>0.0</td>\n",
       "    </tr>\n",
       "    <tr>\n",
       "      <th>3</th>\n",
       "      <td>0.0</td>\n",
       "      <td>0.0</td>\n",
       "      <td>26.0</td>\n",
       "      <td>121</td>\n",
       "      <td>0.475414</td>\n",
       "      <td>0.0</td>\n",
       "    </tr>\n",
       "    <tr>\n",
       "      <th>4</th>\n",
       "      <td>2.0</td>\n",
       "      <td>9.0</td>\n",
       "      <td>62.0</td>\n",
       "      <td>121</td>\n",
       "      <td>0.114192</td>\n",
       "      <td>0.0</td>\n",
       "    </tr>\n",
       "  </tbody>\n",
       "</table>\n",
       "</div>"
      ],
      "text/plain": [
       "    frequency_cal  recency_cal  T_cal  duration_holdout  model_predictions  \\\n",
       "id                                                                           \n",
       "0             0.0          0.0  177.0               121           0.112786   \n",
       "1             0.0          0.0  103.0               121           0.178463   \n",
       "2             6.0        142.0  171.0               121           1.767622   \n",
       "3             0.0          0.0   26.0               121           0.475414   \n",
       "4             2.0          9.0   62.0               121           0.114192   \n",
       "\n",
       "    frequency_holdout  \n",
       "id                     \n",
       "0                 0.0  \n",
       "1                 0.0  \n",
       "2                 0.0  \n",
       "3                 0.0  \n",
       "4                 0.0  "
      ]
     },
     "execution_count": 73,
     "metadata": {},
     "output_type": "execute_result"
    }
   ],
   "source": [
    "full_summ.head()"
   ]
  },
  {
   "cell_type": "code",
   "execution_count": 75,
   "metadata": {},
   "outputs": [],
   "source": [
    "plotting_data = full_summ.groupby(by=['frequency_cal'])['frequency_holdout', 'model_predictions'].mean()"
   ]
  },
  {
   "cell_type": "code",
   "execution_count": 76,
   "metadata": {},
   "outputs": [
    {
     "data": {
      "text/html": [
       "<div>\n",
       "<style scoped>\n",
       "    .dataframe tbody tr th:only-of-type {\n",
       "        vertical-align: middle;\n",
       "    }\n",
       "\n",
       "    .dataframe tbody tr th {\n",
       "        vertical-align: top;\n",
       "    }\n",
       "\n",
       "    .dataframe thead th {\n",
       "        text-align: right;\n",
       "    }\n",
       "</style>\n",
       "<table border=\"1\" class=\"dataframe\">\n",
       "  <thead>\n",
       "    <tr style=\"text-align: right;\">\n",
       "      <th></th>\n",
       "      <th>frequency_holdout</th>\n",
       "      <th>model_predictions</th>\n",
       "    </tr>\n",
       "    <tr>\n",
       "      <th>frequency_cal</th>\n",
       "      <th></th>\n",
       "      <th></th>\n",
       "    </tr>\n",
       "  </thead>\n",
       "  <tbody>\n",
       "    <tr>\n",
       "      <th>0.0</th>\n",
       "      <td>0.161079</td>\n",
       "      <td>0.269892</td>\n",
       "    </tr>\n",
       "    <tr>\n",
       "      <th>1.0</th>\n",
       "      <td>0.233171</td>\n",
       "      <td>0.293861</td>\n",
       "    </tr>\n",
       "    <tr>\n",
       "      <th>2.0</th>\n",
       "      <td>0.347826</td>\n",
       "      <td>0.401599</td>\n",
       "    </tr>\n",
       "    <tr>\n",
       "      <th>3.0</th>\n",
       "      <td>0.543796</td>\n",
       "      <td>0.422267</td>\n",
       "    </tr>\n",
       "    <tr>\n",
       "      <th>4.0</th>\n",
       "      <td>0.710059</td>\n",
       "      <td>0.705816</td>\n",
       "    </tr>\n",
       "  </tbody>\n",
       "</table>\n",
       "</div>"
      ],
      "text/plain": [
       "               frequency_holdout  model_predictions\n",
       "frequency_cal                                      \n",
       "0.0                     0.161079           0.269892\n",
       "1.0                     0.233171           0.293861\n",
       "2.0                     0.347826           0.401599\n",
       "3.0                     0.543796           0.422267\n",
       "4.0                     0.710059           0.705816"
      ]
     },
     "execution_count": 76,
     "metadata": {},
     "output_type": "execute_result"
    }
   ],
   "source": [
    "plotting_data.head()"
   ]
  },
  {
   "cell_type": "code",
   "execution_count": 99,
   "metadata": {},
   "outputs": [
    {
     "data": {
      "text/plain": [
       "1.9306608203725948"
      ]
     },
     "execution_count": 99,
     "metadata": {},
     "output_type": "execute_result"
    }
   ],
   "source": [
    "plotting_data['abs_pct_err'] = np.abs(plotting_data['frequency_holdout'] - plotting_data['model_predictions']) / plotting_data['frequency_holdout'].replace(to_replace=0.0, value=1.0)\n"
   ]
  },
  {
   "cell_type": "code",
   "execution_count": 106,
   "metadata": {},
   "outputs": [
    {
     "data": {
      "text/html": [
       "<div>\n",
       "<style scoped>\n",
       "    .dataframe tbody tr th:only-of-type {\n",
       "        vertical-align: middle;\n",
       "    }\n",
       "\n",
       "    .dataframe tbody tr th {\n",
       "        vertical-align: top;\n",
       "    }\n",
       "\n",
       "    .dataframe thead th {\n",
       "        text-align: right;\n",
       "    }\n",
       "</style>\n",
       "<table border=\"1\" class=\"dataframe\">\n",
       "  <thead>\n",
       "    <tr style=\"text-align: right;\">\n",
       "      <th></th>\n",
       "      <th>txn_ct</th>\n",
       "    </tr>\n",
       "    <tr>\n",
       "      <th>frequency_cal</th>\n",
       "      <th></th>\n",
       "    </tr>\n",
       "  </thead>\n",
       "  <tbody>\n",
       "    <tr>\n",
       "      <th>0.0</th>\n",
       "      <td>2595</td>\n",
       "    </tr>\n",
       "    <tr>\n",
       "      <th>1.0</th>\n",
       "      <td>1025</td>\n",
       "    </tr>\n",
       "    <tr>\n",
       "      <th>2.0</th>\n",
       "      <td>529</td>\n",
       "    </tr>\n",
       "    <tr>\n",
       "      <th>3.0</th>\n",
       "      <td>274</td>\n",
       "    </tr>\n",
       "    <tr>\n",
       "      <th>4.0</th>\n",
       "      <td>169</td>\n",
       "    </tr>\n",
       "    <tr>\n",
       "      <th>5.0</th>\n",
       "      <td>115</td>\n",
       "    </tr>\n",
       "    <tr>\n",
       "      <th>6.0</th>\n",
       "      <td>66</td>\n",
       "    </tr>\n",
       "    <tr>\n",
       "      <th>7.0</th>\n",
       "      <td>46</td>\n",
       "    </tr>\n",
       "    <tr>\n",
       "      <th>8.0</th>\n",
       "      <td>37</td>\n",
       "    </tr>\n",
       "    <tr>\n",
       "      <th>9.0</th>\n",
       "      <td>28</td>\n",
       "    </tr>\n",
       "    <tr>\n",
       "      <th>10.0</th>\n",
       "      <td>18</td>\n",
       "    </tr>\n",
       "    <tr>\n",
       "      <th>11.0</th>\n",
       "      <td>17</td>\n",
       "    </tr>\n",
       "    <tr>\n",
       "      <th>12.0</th>\n",
       "      <td>13</td>\n",
       "    </tr>\n",
       "    <tr>\n",
       "      <th>13.0</th>\n",
       "      <td>10</td>\n",
       "    </tr>\n",
       "    <tr>\n",
       "      <th>14.0</th>\n",
       "      <td>8</td>\n",
       "    </tr>\n",
       "    <tr>\n",
       "      <th>15.0</th>\n",
       "      <td>8</td>\n",
       "    </tr>\n",
       "    <tr>\n",
       "      <th>16.0</th>\n",
       "      <td>9</td>\n",
       "    </tr>\n",
       "    <tr>\n",
       "      <th>17.0</th>\n",
       "      <td>4</td>\n",
       "    </tr>\n",
       "    <tr>\n",
       "      <th>18.0</th>\n",
       "      <td>3</td>\n",
       "    </tr>\n",
       "    <tr>\n",
       "      <th>19.0</th>\n",
       "      <td>2</td>\n",
       "    </tr>\n",
       "    <tr>\n",
       "      <th>20.0</th>\n",
       "      <td>1</td>\n",
       "    </tr>\n",
       "    <tr>\n",
       "      <th>21.0</th>\n",
       "      <td>1</td>\n",
       "    </tr>\n",
       "    <tr>\n",
       "      <th>22.0</th>\n",
       "      <td>2</td>\n",
       "    </tr>\n",
       "    <tr>\n",
       "      <th>23.0</th>\n",
       "      <td>1</td>\n",
       "    </tr>\n",
       "    <tr>\n",
       "      <th>24.0</th>\n",
       "      <td>2</td>\n",
       "    </tr>\n",
       "    <tr>\n",
       "      <th>25.0</th>\n",
       "      <td>4</td>\n",
       "    </tr>\n",
       "    <tr>\n",
       "      <th>27.0</th>\n",
       "      <td>1</td>\n",
       "    </tr>\n",
       "    <tr>\n",
       "      <th>29.0</th>\n",
       "      <td>1</td>\n",
       "    </tr>\n",
       "    <tr>\n",
       "      <th>30.0</th>\n",
       "      <td>2</td>\n",
       "    </tr>\n",
       "    <tr>\n",
       "      <th>32.0</th>\n",
       "      <td>1</td>\n",
       "    </tr>\n",
       "    <tr>\n",
       "      <th>35.0</th>\n",
       "      <td>1</td>\n",
       "    </tr>\n",
       "    <tr>\n",
       "      <th>36.0</th>\n",
       "      <td>2</td>\n",
       "    </tr>\n",
       "    <tr>\n",
       "      <th>38.0</th>\n",
       "      <td>2</td>\n",
       "    </tr>\n",
       "    <tr>\n",
       "      <th>41.0</th>\n",
       "      <td>1</td>\n",
       "    </tr>\n",
       "    <tr>\n",
       "      <th>42.0</th>\n",
       "      <td>1</td>\n",
       "    </tr>\n",
       "    <tr>\n",
       "      <th>65.0</th>\n",
       "      <td>1</td>\n",
       "    </tr>\n",
       "  </tbody>\n",
       "</table>\n",
       "</div>"
      ],
      "text/plain": [
       "               txn_ct\n",
       "frequency_cal        \n",
       "0.0              2595\n",
       "1.0              1025\n",
       "2.0               529\n",
       "3.0               274\n",
       "4.0               169\n",
       "5.0               115\n",
       "6.0                66\n",
       "7.0                46\n",
       "8.0                37\n",
       "9.0                28\n",
       "10.0               18\n",
       "11.0               17\n",
       "12.0               13\n",
       "13.0               10\n",
       "14.0                8\n",
       "15.0                8\n",
       "16.0                9\n",
       "17.0                4\n",
       "18.0                3\n",
       "19.0                2\n",
       "20.0                1\n",
       "21.0                1\n",
       "22.0                2\n",
       "23.0                1\n",
       "24.0                2\n",
       "25.0                4\n",
       "27.0                1\n",
       "29.0                1\n",
       "30.0                2\n",
       "32.0                1\n",
       "35.0                1\n",
       "36.0                2\n",
       "38.0                2\n",
       "41.0                1\n",
       "42.0                1\n",
       "65.0                1"
      ]
     },
     "execution_count": 106,
     "metadata": {},
     "output_type": "execute_result"
    }
   ],
   "source": [
    "full_summ_size = full_summ.groupby(by=['frequency_cal']).size().reset_index()\n",
    "full_summ_size.columns = ['frequency_cal', 'txn_ct']\n",
    "full_summ_size.set_index('frequency_cal')"
   ]
  },
  {
   "cell_type": "code",
   "execution_count": 108,
   "metadata": {},
   "outputs": [
    {
     "data": {
      "text/html": [
       "<div>\n",
       "<style scoped>\n",
       "    .dataframe tbody tr th:only-of-type {\n",
       "        vertical-align: middle;\n",
       "    }\n",
       "\n",
       "    .dataframe tbody tr th {\n",
       "        vertical-align: top;\n",
       "    }\n",
       "\n",
       "    .dataframe thead th {\n",
       "        text-align: right;\n",
       "    }\n",
       "</style>\n",
       "<table border=\"1\" class=\"dataframe\">\n",
       "  <thead>\n",
       "    <tr style=\"text-align: right;\">\n",
       "      <th></th>\n",
       "      <th>frequency_holdout</th>\n",
       "      <th>model_predictions</th>\n",
       "      <th>abs_pct_err</th>\n",
       "      <th>frequency_cal</th>\n",
       "      <th>txn_ct</th>\n",
       "    </tr>\n",
       "    <tr>\n",
       "      <th>frequency_cal</th>\n",
       "      <th></th>\n",
       "      <th></th>\n",
       "      <th></th>\n",
       "      <th></th>\n",
       "      <th></th>\n",
       "    </tr>\n",
       "  </thead>\n",
       "  <tbody>\n",
       "    <tr>\n",
       "      <th>0.0</th>\n",
       "      <td>0.161079</td>\n",
       "      <td>0.269892</td>\n",
       "      <td>0.675525</td>\n",
       "      <td>0.0</td>\n",
       "      <td>2595.0</td>\n",
       "    </tr>\n",
       "    <tr>\n",
       "      <th>1.0</th>\n",
       "      <td>0.233171</td>\n",
       "      <td>0.293861</td>\n",
       "      <td>0.260281</td>\n",
       "      <td>1.0</td>\n",
       "      <td>1025.0</td>\n",
       "    </tr>\n",
       "    <tr>\n",
       "      <th>2.0</th>\n",
       "      <td>0.347826</td>\n",
       "      <td>0.401599</td>\n",
       "      <td>0.154598</td>\n",
       "      <td>2.0</td>\n",
       "      <td>529.0</td>\n",
       "    </tr>\n",
       "    <tr>\n",
       "      <th>3.0</th>\n",
       "      <td>0.543796</td>\n",
       "      <td>0.422267</td>\n",
       "      <td>0.223483</td>\n",
       "      <td>3.0</td>\n",
       "      <td>274.0</td>\n",
       "    </tr>\n",
       "    <tr>\n",
       "      <th>4.0</th>\n",
       "      <td>0.710059</td>\n",
       "      <td>0.705816</td>\n",
       "      <td>0.005976</td>\n",
       "      <td>4.0</td>\n",
       "      <td>169.0</td>\n",
       "    </tr>\n",
       "  </tbody>\n",
       "</table>\n",
       "</div>"
      ],
      "text/plain": [
       "               frequency_holdout  model_predictions  abs_pct_err  \\\n",
       "frequency_cal                                                      \n",
       "0.0                     0.161079           0.269892     0.675525   \n",
       "1.0                     0.233171           0.293861     0.260281   \n",
       "2.0                     0.347826           0.401599     0.154598   \n",
       "3.0                     0.543796           0.422267     0.223483   \n",
       "4.0                     0.710059           0.705816     0.005976   \n",
       "\n",
       "               frequency_cal  txn_ct  \n",
       "frequency_cal                         \n",
       "0.0                      0.0  2595.0  \n",
       "1.0                      1.0  1025.0  \n",
       "2.0                      2.0   529.0  \n",
       "3.0                      3.0   274.0  \n",
       "4.0                      4.0   169.0  "
      ]
     },
     "execution_count": 108,
     "metadata": {},
     "output_type": "execute_result"
    }
   ],
   "source": [
    "plotting_data_wt = plotting_data.join(full_summ_size, how='left')\n",
    "plotting_data_wt.head()"
   ]
  },
  {
   "cell_type": "code",
   "execution_count": 112,
   "metadata": {},
   "outputs": [],
   "source": [
    "plotting_data_wt['txn_ct_share'] = plotting_data_wt['txn_ct'] / np.sum(plotting_data_wt['txn_ct'])\n",
    "plotting_data_wt['abs_pct_err_wt'] = plotting_data_wt['abs_pct_err'] * plotting_data_wt['txn_ct_share'].fillna(0.0)"
   ]
  },
  {
   "cell_type": "code",
   "execution_count": 113,
   "metadata": {},
   "outputs": [
    {
     "data": {
      "text/html": [
       "<div>\n",
       "<style scoped>\n",
       "    .dataframe tbody tr th:only-of-type {\n",
       "        vertical-align: middle;\n",
       "    }\n",
       "\n",
       "    .dataframe tbody tr th {\n",
       "        vertical-align: top;\n",
       "    }\n",
       "\n",
       "    .dataframe thead th {\n",
       "        text-align: right;\n",
       "    }\n",
       "</style>\n",
       "<table border=\"1\" class=\"dataframe\">\n",
       "  <thead>\n",
       "    <tr style=\"text-align: right;\">\n",
       "      <th></th>\n",
       "      <th>frequency_holdout</th>\n",
       "      <th>model_predictions</th>\n",
       "      <th>abs_pct_err</th>\n",
       "      <th>frequency_cal</th>\n",
       "      <th>txn_ct</th>\n",
       "      <th>abs_pct_err_wt</th>\n",
       "      <th>txn_ct_share</th>\n",
       "    </tr>\n",
       "    <tr>\n",
       "      <th>frequency_cal</th>\n",
       "      <th></th>\n",
       "      <th></th>\n",
       "      <th></th>\n",
       "      <th></th>\n",
       "      <th></th>\n",
       "      <th></th>\n",
       "      <th></th>\n",
       "    </tr>\n",
       "  </thead>\n",
       "  <tbody>\n",
       "    <tr>\n",
       "      <th>0.0</th>\n",
       "      <td>0.161079</td>\n",
       "      <td>0.269892</td>\n",
       "      <td>0.675525</td>\n",
       "      <td>0.0</td>\n",
       "      <td>2595.0</td>\n",
       "      <td>3.510890e-01</td>\n",
       "      <td>0.519728</td>\n",
       "    </tr>\n",
       "    <tr>\n",
       "      <th>1.0</th>\n",
       "      <td>0.233171</td>\n",
       "      <td>0.293861</td>\n",
       "      <td>0.260281</td>\n",
       "      <td>1.0</td>\n",
       "      <td>1025.0</td>\n",
       "      <td>5.343247e-02</td>\n",
       "      <td>0.205287</td>\n",
       "    </tr>\n",
       "    <tr>\n",
       "      <th>2.0</th>\n",
       "      <td>0.347826</td>\n",
       "      <td>0.401599</td>\n",
       "      <td>0.154598</td>\n",
       "      <td>2.0</td>\n",
       "      <td>529.0</td>\n",
       "      <td>1.637935e-02</td>\n",
       "      <td>0.105948</td>\n",
       "    </tr>\n",
       "    <tr>\n",
       "      <th>3.0</th>\n",
       "      <td>0.543796</td>\n",
       "      <td>0.422267</td>\n",
       "      <td>0.223483</td>\n",
       "      <td>3.0</td>\n",
       "      <td>274.0</td>\n",
       "      <td>1.226404e-02</td>\n",
       "      <td>0.054877</td>\n",
       "    </tr>\n",
       "    <tr>\n",
       "      <th>4.0</th>\n",
       "      <td>0.710059</td>\n",
       "      <td>0.705816</td>\n",
       "      <td>0.005976</td>\n",
       "      <td>4.0</td>\n",
       "      <td>169.0</td>\n",
       "      <td>2.022699e-04</td>\n",
       "      <td>0.033847</td>\n",
       "    </tr>\n",
       "    <tr>\n",
       "      <th>5.0</th>\n",
       "      <td>0.704348</td>\n",
       "      <td>0.809352</td>\n",
       "      <td>0.149080</td>\n",
       "      <td>5.0</td>\n",
       "      <td>115.0</td>\n",
       "      <td>3.433654e-03</td>\n",
       "      <td>0.023032</td>\n",
       "    </tr>\n",
       "    <tr>\n",
       "      <th>6.0</th>\n",
       "      <td>1.606061</td>\n",
       "      <td>1.018576</td>\n",
       "      <td>0.365792</td>\n",
       "      <td>6.0</td>\n",
       "      <td>66.0</td>\n",
       "      <td>4.835227e-03</td>\n",
       "      <td>0.013219</td>\n",
       "    </tr>\n",
       "    <tr>\n",
       "      <th>7.0</th>\n",
       "      <td>1.695652</td>\n",
       "      <td>1.545798</td>\n",
       "      <td>0.088376</td>\n",
       "      <td>7.0</td>\n",
       "      <td>46.0</td>\n",
       "      <td>8.141953e-04</td>\n",
       "      <td>0.009213</td>\n",
       "    </tr>\n",
       "    <tr>\n",
       "      <th>8.0</th>\n",
       "      <td>1.648649</td>\n",
       "      <td>1.207087</td>\n",
       "      <td>0.267833</td>\n",
       "      <td>8.0</td>\n",
       "      <td>37.0</td>\n",
       "      <td>1.984741e-03</td>\n",
       "      <td>0.007410</td>\n",
       "    </tr>\n",
       "    <tr>\n",
       "      <th>9.0</th>\n",
       "      <td>1.357143</td>\n",
       "      <td>1.252026</td>\n",
       "      <td>0.077455</td>\n",
       "      <td>9.0</td>\n",
       "      <td>28.0</td>\n",
       "      <td>4.343543e-04</td>\n",
       "      <td>0.005608</td>\n",
       "    </tr>\n",
       "    <tr>\n",
       "      <th>10.0</th>\n",
       "      <td>0.222222</td>\n",
       "      <td>1.936140</td>\n",
       "      <td>7.712632</td>\n",
       "      <td>10.0</td>\n",
       "      <td>18.0</td>\n",
       "      <td>2.780440e-02</td>\n",
       "      <td>0.003605</td>\n",
       "    </tr>\n",
       "    <tr>\n",
       "      <th>11.0</th>\n",
       "      <td>1.882353</td>\n",
       "      <td>0.976591</td>\n",
       "      <td>0.481186</td>\n",
       "      <td>11.0</td>\n",
       "      <td>17.0</td>\n",
       "      <td>1.638326e-03</td>\n",
       "      <td>0.003405</td>\n",
       "    </tr>\n",
       "    <tr>\n",
       "      <th>12.0</th>\n",
       "      <td>2.076923</td>\n",
       "      <td>1.984971</td>\n",
       "      <td>0.044273</td>\n",
       "      <td>12.0</td>\n",
       "      <td>13.0</td>\n",
       "      <td>1.152718e-04</td>\n",
       "      <td>0.002604</td>\n",
       "    </tr>\n",
       "    <tr>\n",
       "      <th>13.0</th>\n",
       "      <td>1.800000</td>\n",
       "      <td>3.755657</td>\n",
       "      <td>1.086476</td>\n",
       "      <td>13.0</td>\n",
       "      <td>10.0</td>\n",
       "      <td>2.175998e-03</td>\n",
       "      <td>0.002003</td>\n",
       "    </tr>\n",
       "    <tr>\n",
       "      <th>14.0</th>\n",
       "      <td>3.750000</td>\n",
       "      <td>3.440699</td>\n",
       "      <td>0.082480</td>\n",
       "      <td>14.0</td>\n",
       "      <td>8.0</td>\n",
       "      <td>1.321536e-04</td>\n",
       "      <td>0.001602</td>\n",
       "    </tr>\n",
       "    <tr>\n",
       "      <th>15.0</th>\n",
       "      <td>2.750000</td>\n",
       "      <td>1.830084</td>\n",
       "      <td>0.334515</td>\n",
       "      <td>15.0</td>\n",
       "      <td>8.0</td>\n",
       "      <td>5.359744e-04</td>\n",
       "      <td>0.001602</td>\n",
       "    </tr>\n",
       "    <tr>\n",
       "      <th>16.0</th>\n",
       "      <td>0.222222</td>\n",
       "      <td>1.216120</td>\n",
       "      <td>4.472540</td>\n",
       "      <td>16.0</td>\n",
       "      <td>9.0</td>\n",
       "      <td>8.061858e-03</td>\n",
       "      <td>0.001803</td>\n",
       "    </tr>\n",
       "    <tr>\n",
       "      <th>17.0</th>\n",
       "      <td>5.000000</td>\n",
       "      <td>6.931192</td>\n",
       "      <td>0.386238</td>\n",
       "      <td>17.0</td>\n",
       "      <td>4.0</td>\n",
       "      <td>3.094239e-04</td>\n",
       "      <td>0.000801</td>\n",
       "    </tr>\n",
       "    <tr>\n",
       "      <th>18.0</th>\n",
       "      <td>0.333333</td>\n",
       "      <td>2.742821</td>\n",
       "      <td>7.228464</td>\n",
       "      <td>18.0</td>\n",
       "      <td>3.0</td>\n",
       "      <td>4.343159e-03</td>\n",
       "      <td>0.000601</td>\n",
       "    </tr>\n",
       "    <tr>\n",
       "      <th>19.0</th>\n",
       "      <td>0.000000</td>\n",
       "      <td>3.499772</td>\n",
       "      <td>3.499772</td>\n",
       "      <td>19.0</td>\n",
       "      <td>2.0</td>\n",
       "      <td>1.401872e-03</td>\n",
       "      <td>0.000401</td>\n",
       "    </tr>\n",
       "    <tr>\n",
       "      <th>20.0</th>\n",
       "      <td>0.000000</td>\n",
       "      <td>0.000337</td>\n",
       "      <td>0.000337</td>\n",
       "      <td>20.0</td>\n",
       "      <td>1.0</td>\n",
       "      <td>6.742664e-08</td>\n",
       "      <td>0.000200</td>\n",
       "    </tr>\n",
       "    <tr>\n",
       "      <th>21.0</th>\n",
       "      <td>0.000000</td>\n",
       "      <td>0.444282</td>\n",
       "      <td>0.444282</td>\n",
       "      <td>21.0</td>\n",
       "      <td>1.0</td>\n",
       "      <td>8.898096e-05</td>\n",
       "      <td>0.000200</td>\n",
       "    </tr>\n",
       "    <tr>\n",
       "      <th>22.0</th>\n",
       "      <td>1.000000</td>\n",
       "      <td>7.203844</td>\n",
       "      <td>6.203844</td>\n",
       "      <td>22.0</td>\n",
       "      <td>2.0</td>\n",
       "      <td>2.485017e-03</td>\n",
       "      <td>0.000401</td>\n",
       "    </tr>\n",
       "    <tr>\n",
       "      <th>23.0</th>\n",
       "      <td>0.000000</td>\n",
       "      <td>0.000003</td>\n",
       "      <td>0.000003</td>\n",
       "      <td>23.0</td>\n",
       "      <td>1.0</td>\n",
       "      <td>6.610300e-10</td>\n",
       "      <td>0.000200</td>\n",
       "    </tr>\n",
       "    <tr>\n",
       "      <th>24.0</th>\n",
       "      <td>0.000000</td>\n",
       "      <td>4.325045</td>\n",
       "      <td>4.325045</td>\n",
       "      <td>24.0</td>\n",
       "      <td>2.0</td>\n",
       "      <td>1.732444e-03</td>\n",
       "      <td>0.000401</td>\n",
       "    </tr>\n",
       "    <tr>\n",
       "      <th>25.0</th>\n",
       "      <td>15.000000</td>\n",
       "      <td>9.101405</td>\n",
       "      <td>0.393240</td>\n",
       "      <td>25.0</td>\n",
       "      <td>4.0</td>\n",
       "      <td>3.150328e-04</td>\n",
       "      <td>0.000801</td>\n",
       "    </tr>\n",
       "    <tr>\n",
       "      <th>27.0</th>\n",
       "      <td>0.000000</td>\n",
       "      <td>3.658027</td>\n",
       "      <td>3.658027</td>\n",
       "      <td>29.0</td>\n",
       "      <td>1.0</td>\n",
       "      <td>7.326311e-04</td>\n",
       "      <td>0.000200</td>\n",
       "    </tr>\n",
       "    <tr>\n",
       "      <th>29.0</th>\n",
       "      <td>0.000000</td>\n",
       "      <td>0.113566</td>\n",
       "      <td>0.113566</td>\n",
       "      <td>32.0</td>\n",
       "      <td>1.0</td>\n",
       "      <td>2.274497e-05</td>\n",
       "      <td>0.000200</td>\n",
       "    </tr>\n",
       "    <tr>\n",
       "      <th>30.0</th>\n",
       "      <td>22.500000</td>\n",
       "      <td>13.645530</td>\n",
       "      <td>0.393532</td>\n",
       "      <td>35.0</td>\n",
       "      <td>1.0</td>\n",
       "      <td>7.881674e-05</td>\n",
       "      <td>0.000200</td>\n",
       "    </tr>\n",
       "    <tr>\n",
       "      <th>32.0</th>\n",
       "      <td>4.000000</td>\n",
       "      <td>12.873537</td>\n",
       "      <td>2.218384</td>\n",
       "      <td>38.0</td>\n",
       "      <td>2.0</td>\n",
       "      <td>8.885978e-04</td>\n",
       "      <td>0.000401</td>\n",
       "    </tr>\n",
       "    <tr>\n",
       "      <th>35.0</th>\n",
       "      <td>49.000000</td>\n",
       "      <td>17.588428</td>\n",
       "      <td>0.641052</td>\n",
       "      <td>65.0</td>\n",
       "      <td>1.0</td>\n",
       "      <td>1.283902e-04</td>\n",
       "      <td>0.000200</td>\n",
       "    </tr>\n",
       "    <tr>\n",
       "      <th>36.0</th>\n",
       "      <td>9.500000</td>\n",
       "      <td>8.724125</td>\n",
       "      <td>0.081671</td>\n",
       "      <td>NaN</td>\n",
       "      <td>NaN</td>\n",
       "      <td>0.000000e+00</td>\n",
       "      <td>NaN</td>\n",
       "    </tr>\n",
       "    <tr>\n",
       "      <th>38.0</th>\n",
       "      <td>25.500000</td>\n",
       "      <td>14.658269</td>\n",
       "      <td>0.425166</td>\n",
       "      <td>NaN</td>\n",
       "      <td>NaN</td>\n",
       "      <td>0.000000e+00</td>\n",
       "      <td>NaN</td>\n",
       "    </tr>\n",
       "    <tr>\n",
       "      <th>41.0</th>\n",
       "      <td>13.000000</td>\n",
       "      <td>14.317104</td>\n",
       "      <td>0.101316</td>\n",
       "      <td>NaN</td>\n",
       "      <td>NaN</td>\n",
       "      <td>0.000000e+00</td>\n",
       "      <td>NaN</td>\n",
       "    </tr>\n",
       "    <tr>\n",
       "      <th>42.0</th>\n",
       "      <td>50.000000</td>\n",
       "      <td>29.039910</td>\n",
       "      <td>0.419202</td>\n",
       "      <td>NaN</td>\n",
       "      <td>NaN</td>\n",
       "      <td>0.000000e+00</td>\n",
       "      <td>NaN</td>\n",
       "    </tr>\n",
       "    <tr>\n",
       "      <th>65.0</th>\n",
       "      <td>1.000000</td>\n",
       "      <td>23.488147</td>\n",
       "      <td>22.488147</td>\n",
       "      <td>NaN</td>\n",
       "      <td>NaN</td>\n",
       "      <td>0.000000e+00</td>\n",
       "      <td>NaN</td>\n",
       "    </tr>\n",
       "  </tbody>\n",
       "</table>\n",
       "</div>"
      ],
      "text/plain": [
       "               frequency_holdout  model_predictions  abs_pct_err  \\\n",
       "frequency_cal                                                      \n",
       "0.0                     0.161079           0.269892     0.675525   \n",
       "1.0                     0.233171           0.293861     0.260281   \n",
       "2.0                     0.347826           0.401599     0.154598   \n",
       "3.0                     0.543796           0.422267     0.223483   \n",
       "4.0                     0.710059           0.705816     0.005976   \n",
       "5.0                     0.704348           0.809352     0.149080   \n",
       "6.0                     1.606061           1.018576     0.365792   \n",
       "7.0                     1.695652           1.545798     0.088376   \n",
       "8.0                     1.648649           1.207087     0.267833   \n",
       "9.0                     1.357143           1.252026     0.077455   \n",
       "10.0                    0.222222           1.936140     7.712632   \n",
       "11.0                    1.882353           0.976591     0.481186   \n",
       "12.0                    2.076923           1.984971     0.044273   \n",
       "13.0                    1.800000           3.755657     1.086476   \n",
       "14.0                    3.750000           3.440699     0.082480   \n",
       "15.0                    2.750000           1.830084     0.334515   \n",
       "16.0                    0.222222           1.216120     4.472540   \n",
       "17.0                    5.000000           6.931192     0.386238   \n",
       "18.0                    0.333333           2.742821     7.228464   \n",
       "19.0                    0.000000           3.499772     3.499772   \n",
       "20.0                    0.000000           0.000337     0.000337   \n",
       "21.0                    0.000000           0.444282     0.444282   \n",
       "22.0                    1.000000           7.203844     6.203844   \n",
       "23.0                    0.000000           0.000003     0.000003   \n",
       "24.0                    0.000000           4.325045     4.325045   \n",
       "25.0                   15.000000           9.101405     0.393240   \n",
       "27.0                    0.000000           3.658027     3.658027   \n",
       "29.0                    0.000000           0.113566     0.113566   \n",
       "30.0                   22.500000          13.645530     0.393532   \n",
       "32.0                    4.000000          12.873537     2.218384   \n",
       "35.0                   49.000000          17.588428     0.641052   \n",
       "36.0                    9.500000           8.724125     0.081671   \n",
       "38.0                   25.500000          14.658269     0.425166   \n",
       "41.0                   13.000000          14.317104     0.101316   \n",
       "42.0                   50.000000          29.039910     0.419202   \n",
       "65.0                    1.000000          23.488147    22.488147   \n",
       "\n",
       "               frequency_cal  txn_ct  abs_pct_err_wt  txn_ct_share  \n",
       "frequency_cal                                                       \n",
       "0.0                      0.0  2595.0    3.510890e-01      0.519728  \n",
       "1.0                      1.0  1025.0    5.343247e-02      0.205287  \n",
       "2.0                      2.0   529.0    1.637935e-02      0.105948  \n",
       "3.0                      3.0   274.0    1.226404e-02      0.054877  \n",
       "4.0                      4.0   169.0    2.022699e-04      0.033847  \n",
       "5.0                      5.0   115.0    3.433654e-03      0.023032  \n",
       "6.0                      6.0    66.0    4.835227e-03      0.013219  \n",
       "7.0                      7.0    46.0    8.141953e-04      0.009213  \n",
       "8.0                      8.0    37.0    1.984741e-03      0.007410  \n",
       "9.0                      9.0    28.0    4.343543e-04      0.005608  \n",
       "10.0                    10.0    18.0    2.780440e-02      0.003605  \n",
       "11.0                    11.0    17.0    1.638326e-03      0.003405  \n",
       "12.0                    12.0    13.0    1.152718e-04      0.002604  \n",
       "13.0                    13.0    10.0    2.175998e-03      0.002003  \n",
       "14.0                    14.0     8.0    1.321536e-04      0.001602  \n",
       "15.0                    15.0     8.0    5.359744e-04      0.001602  \n",
       "16.0                    16.0     9.0    8.061858e-03      0.001803  \n",
       "17.0                    17.0     4.0    3.094239e-04      0.000801  \n",
       "18.0                    18.0     3.0    4.343159e-03      0.000601  \n",
       "19.0                    19.0     2.0    1.401872e-03      0.000401  \n",
       "20.0                    20.0     1.0    6.742664e-08      0.000200  \n",
       "21.0                    21.0     1.0    8.898096e-05      0.000200  \n",
       "22.0                    22.0     2.0    2.485017e-03      0.000401  \n",
       "23.0                    23.0     1.0    6.610300e-10      0.000200  \n",
       "24.0                    24.0     2.0    1.732444e-03      0.000401  \n",
       "25.0                    25.0     4.0    3.150328e-04      0.000801  \n",
       "27.0                    29.0     1.0    7.326311e-04      0.000200  \n",
       "29.0                    32.0     1.0    2.274497e-05      0.000200  \n",
       "30.0                    35.0     1.0    7.881674e-05      0.000200  \n",
       "32.0                    38.0     2.0    8.885978e-04      0.000401  \n",
       "35.0                    65.0     1.0    1.283902e-04      0.000200  \n",
       "36.0                     NaN     NaN    0.000000e+00           NaN  \n",
       "38.0                     NaN     NaN    0.000000e+00           NaN  \n",
       "41.0                     NaN     NaN    0.000000e+00           NaN  \n",
       "42.0                     NaN     NaN    0.000000e+00           NaN  \n",
       "65.0                     NaN     NaN    0.000000e+00           NaN  "
      ]
     },
     "execution_count": 113,
     "metadata": {},
     "output_type": "execute_result"
    }
   ],
   "source": [
    "plotting_data_wt"
   ]
  },
  {
   "cell_type": "code",
   "execution_count": 114,
   "metadata": {},
   "outputs": [
    {
     "data": {
      "text/plain": [
       "0.013829456570961386"
      ]
     },
     "execution_count": 114,
     "metadata": {},
     "output_type": "execute_result"
    }
   ],
   "source": [
    "np.mean(plotting_data_wt['abs_pct_err_wt'])"
   ]
  },
  {
   "cell_type": "code",
   "execution_count": 79,
   "metadata": {},
   "outputs": [
    {
     "data": {
      "text/html": [
       "<div>\n",
       "<style scoped>\n",
       "    .dataframe tbody tr th:only-of-type {\n",
       "        vertical-align: middle;\n",
       "    }\n",
       "\n",
       "    .dataframe tbody tr th {\n",
       "        vertical-align: top;\n",
       "    }\n",
       "\n",
       "    .dataframe thead th {\n",
       "        text-align: right;\n",
       "    }\n",
       "</style>\n",
       "<table border=\"1\" class=\"dataframe\">\n",
       "  <thead>\n",
       "    <tr style=\"text-align: right;\">\n",
       "      <th></th>\n",
       "      <th>frequency_cal</th>\n",
       "      <th>variable</th>\n",
       "      <th>value</th>\n",
       "    </tr>\n",
       "  </thead>\n",
       "  <tbody>\n",
       "    <tr>\n",
       "      <th>0</th>\n",
       "      <td>0.0</td>\n",
       "      <td>frequency_holdout</td>\n",
       "      <td>0.161079</td>\n",
       "    </tr>\n",
       "    <tr>\n",
       "      <th>1</th>\n",
       "      <td>1.0</td>\n",
       "      <td>frequency_holdout</td>\n",
       "      <td>0.233171</td>\n",
       "    </tr>\n",
       "    <tr>\n",
       "      <th>2</th>\n",
       "      <td>2.0</td>\n",
       "      <td>frequency_holdout</td>\n",
       "      <td>0.347826</td>\n",
       "    </tr>\n",
       "    <tr>\n",
       "      <th>3</th>\n",
       "      <td>3.0</td>\n",
       "      <td>frequency_holdout</td>\n",
       "      <td>0.543796</td>\n",
       "    </tr>\n",
       "    <tr>\n",
       "      <th>4</th>\n",
       "      <td>4.0</td>\n",
       "      <td>frequency_holdout</td>\n",
       "      <td>0.710059</td>\n",
       "    </tr>\n",
       "  </tbody>\n",
       "</table>\n",
       "</div>"
      ],
      "text/plain": [
       "   frequency_cal           variable     value\n",
       "0            0.0  frequency_holdout  0.161079\n",
       "1            1.0  frequency_holdout  0.233171\n",
       "2            2.0  frequency_holdout  0.347826\n",
       "3            3.0  frequency_holdout  0.543796\n",
       "4            4.0  frequency_holdout  0.710059"
      ]
     },
     "execution_count": 79,
     "metadata": {},
     "output_type": "execute_result"
    }
   ],
   "source": [
    "df = plotting_data.reset_index()\n",
    "plotting_temp = pd.melt(df, id_vars=['frequency_cal'], value_vars=['frequency_holdout', 'model_predictions'])\n",
    "plotting_temp.head()"
   ]
  },
  {
   "cell_type": "code",
   "execution_count": 97,
   "metadata": {},
   "outputs": [
    {
     "data": {
      "application/vnd.vegalite.v2+json": {
       "$schema": "https://vega.github.io/schema/vega-lite/v2.6.0.json",
       "config": {
        "axis": {
         "domainWidth": 0.8
        },
        "view": {
         "height": 300,
         "stroke": "transparent",
         "width": 400
        }
       },
       "data": {
        "name": "data-103a5bcf7383620146b4ca3f121ba641"
       },
       "datasets": {
        "data-103a5bcf7383620146b4ca3f121ba641": [
         {
          "frequency_cal": 0,
          "value": 0.16107899807321774,
          "variable": "frequency_holdout"
         },
         {
          "frequency_cal": 1,
          "value": 0.23317073170731709,
          "variable": "frequency_holdout"
         },
         {
          "frequency_cal": 2,
          "value": 0.34782608695652173,
          "variable": "frequency_holdout"
         },
         {
          "frequency_cal": 3,
          "value": 0.5437956204379562,
          "variable": "frequency_holdout"
         },
         {
          "frequency_cal": 4,
          "value": 0.7100591715976331,
          "variable": "frequency_holdout"
         },
         {
          "frequency_cal": 5,
          "value": 0.7043478260869566,
          "variable": "frequency_holdout"
         },
         {
          "frequency_cal": 6,
          "value": 1.606060606060606,
          "variable": "frequency_holdout"
         },
         {
          "frequency_cal": 7,
          "value": 1.6956521739130435,
          "variable": "frequency_holdout"
         },
         {
          "frequency_cal": 8,
          "value": 1.6486486486486487,
          "variable": "frequency_holdout"
         },
         {
          "frequency_cal": 9,
          "value": 1.3571428571428572,
          "variable": "frequency_holdout"
         },
         {
          "frequency_cal": 10,
          "value": 0.2222222222222222,
          "variable": "frequency_holdout"
         },
         {
          "frequency_cal": 11,
          "value": 1.8823529411764706,
          "variable": "frequency_holdout"
         },
         {
          "frequency_cal": 12,
          "value": 2.076923076923077,
          "variable": "frequency_holdout"
         },
         {
          "frequency_cal": 13,
          "value": 1.8,
          "variable": "frequency_holdout"
         },
         {
          "frequency_cal": 14,
          "value": 3.75,
          "variable": "frequency_holdout"
         },
         {
          "frequency_cal": 15,
          "value": 2.75,
          "variable": "frequency_holdout"
         },
         {
          "frequency_cal": 16,
          "value": 0.2222222222222222,
          "variable": "frequency_holdout"
         },
         {
          "frequency_cal": 17,
          "value": 5,
          "variable": "frequency_holdout"
         },
         {
          "frequency_cal": 18,
          "value": 0.3333333333333333,
          "variable": "frequency_holdout"
         },
         {
          "frequency_cal": 19,
          "value": 0,
          "variable": "frequency_holdout"
         },
         {
          "frequency_cal": 20,
          "value": 0,
          "variable": "frequency_holdout"
         },
         {
          "frequency_cal": 21,
          "value": 0,
          "variable": "frequency_holdout"
         },
         {
          "frequency_cal": 22,
          "value": 1,
          "variable": "frequency_holdout"
         },
         {
          "frequency_cal": 23,
          "value": 0,
          "variable": "frequency_holdout"
         },
         {
          "frequency_cal": 24,
          "value": 0,
          "variable": "frequency_holdout"
         },
         {
          "frequency_cal": 25,
          "value": 15,
          "variable": "frequency_holdout"
         },
         {
          "frequency_cal": 27,
          "value": 0,
          "variable": "frequency_holdout"
         },
         {
          "frequency_cal": 29,
          "value": 0,
          "variable": "frequency_holdout"
         },
         {
          "frequency_cal": 30,
          "value": 22.5,
          "variable": "frequency_holdout"
         },
         {
          "frequency_cal": 32,
          "value": 4,
          "variable": "frequency_holdout"
         },
         {
          "frequency_cal": 35,
          "value": 49,
          "variable": "frequency_holdout"
         },
         {
          "frequency_cal": 36,
          "value": 9.5,
          "variable": "frequency_holdout"
         },
         {
          "frequency_cal": 38,
          "value": 25.5,
          "variable": "frequency_holdout"
         },
         {
          "frequency_cal": 41,
          "value": 13,
          "variable": "frequency_holdout"
         },
         {
          "frequency_cal": 42,
          "value": 50,
          "variable": "frequency_holdout"
         },
         {
          "frequency_cal": 65,
          "value": 1,
          "variable": "frequency_holdout"
         },
         {
          "frequency_cal": 0,
          "value": 0.2698918785926638,
          "variable": "model_predictions"
         },
         {
          "frequency_cal": 1,
          "value": 0.2938607109268753,
          "variable": "model_predictions"
         },
         {
          "frequency_cal": 2,
          "value": 0.40159915068002566,
          "variable": "model_predictions"
         },
         {
          "frequency_cal": 3,
          "value": 0.4222665033491749,
          "variable": "model_predictions"
         },
         {
          "frequency_cal": 4,
          "value": 0.7058159020951305,
          "variable": "model_predictions"
         },
         {
          "frequency_cal": 5,
          "value": 0.8093522142304543,
          "variable": "model_predictions"
         },
         {
          "frequency_cal": 6,
          "value": 1.0185760407021298,
          "variable": "model_predictions"
         },
         {
          "frequency_cal": 7,
          "value": 1.5457979090589817,
          "variable": "model_predictions"
         },
         {
          "frequency_cal": 8,
          "value": 1.2070865548382914,
          "variable": "model_predictions"
         },
         {
          "frequency_cal": 9,
          "value": 1.2520257887147452,
          "variable": "model_predictions"
         },
         {
          "frequency_cal": 10,
          "value": 1.9361404601670047,
          "variable": "model_predictions"
         },
         {
          "frequency_cal": 11,
          "value": 0.9765908986453536,
          "variable": "model_predictions"
         },
         {
          "frequency_cal": 12,
          "value": 1.9849709294418136,
          "variable": "model_predictions"
         },
         {
          "frequency_cal": 13,
          "value": 3.755656682337102,
          "variable": "model_predictions"
         },
         {
          "frequency_cal": 14,
          "value": 3.44069870077421,
          "variable": "model_predictions"
         },
         {
          "frequency_cal": 15,
          "value": 1.8300837045542186,
          "variable": "model_predictions"
         },
         {
          "frequency_cal": 16,
          "value": 1.2161199017547453,
          "variable": "model_predictions"
         },
         {
          "frequency_cal": 17,
          "value": 6.931192186246454,
          "variable": "model_predictions"
         },
         {
          "frequency_cal": 18,
          "value": 2.7428213429611947,
          "variable": "model_predictions"
         },
         {
          "frequency_cal": 19,
          "value": 3.4997723171731554,
          "variable": "model_predictions"
         },
         {
          "frequency_cal": 20,
          "value": 0.00033666121601819414,
          "variable": "model_predictions"
         },
         {
          "frequency_cal": 21,
          "value": 0.44428195178379115,
          "variable": "model_predictions"
         },
         {
          "frequency_cal": 22,
          "value": 7.203844086218197,
          "variable": "model_predictions"
         },
         {
          "frequency_cal": 23,
          "value": 3.3005227667853954e-06,
          "variable": "model_predictions"
         },
         {
          "frequency_cal": 24,
          "value": 4.325045417145341,
          "variable": "model_predictions"
         },
         {
          "frequency_cal": 25,
          "value": 9.101404801493477,
          "variable": "model_predictions"
         },
         {
          "frequency_cal": 27,
          "value": 3.658026884630793,
          "variable": "model_predictions"
         },
         {
          "frequency_cal": 29,
          "value": 0.11356562372965465,
          "variable": "model_predictions"
         },
         {
          "frequency_cal": 30,
          "value": 13.645529873929386,
          "variable": "model_predictions"
         },
         {
          "frequency_cal": 32,
          "value": 12.873537143522062,
          "variable": "model_predictions"
         },
         {
          "frequency_cal": 35,
          "value": 17.58842807188293,
          "variable": "model_predictions"
         },
         {
          "frequency_cal": 36,
          "value": 8.724125480067151,
          "variable": "model_predictions"
         },
         {
          "frequency_cal": 38,
          "value": 14.658268977975832,
          "variable": "model_predictions"
         },
         {
          "frequency_cal": 41,
          "value": 14.317104487216886,
          "variable": "model_predictions"
         },
         {
          "frequency_cal": 42,
          "value": 29.039910410142614,
          "variable": "model_predictions"
         },
         {
          "frequency_cal": 65,
          "value": 23.488147249097317,
          "variable": "model_predictions"
         }
        ]
       },
       "encoding": {
        "color": {
         "field": "variable",
         "type": "nominal"
        },
        "x": {
         "axis": {
          "title": ""
         },
         "field": "frequency_cal",
         "scale": {
          "rangeStep": 12
         },
         "type": "quantitative"
        },
        "y": {
         "axis": {
          "grid": false,
          "title": "population"
         },
         "field": "value",
         "type": "quantitative"
        }
       },
       "mark": {
        "stroke": "transparent",
        "type": "line"
       }
      },
      "image/png": "[encoded data removed]",
      "text/plain": [
       "<VegaLite 2 object>\n",
       "\n",
       "If you see this message, it means the renderer has not been properly enabled\n",
       "for the frontend that you are using. For more information, see\n",
       "https://altair-viz.github.io/user_guide/troubleshooting.html\n"
      ]
     },
     "execution_count": 97,
     "metadata": {},
     "output_type": "execute_result"
    }
   ],
   "source": [
    "import altair as alt\n",
    "alt.Chart(plotting_temp).mark_line(stroke='transparent').encode(\n",
    "    x=alt.X('frequency_cal:Q', scale=alt.Scale(rangeStep=12), axis=alt.Axis(title='')),\n",
    "    y=alt.Y('value:Q', axis=alt.Axis(title='population', grid=False)),\n",
    "    color='variable:N'\n",
    "    \n",
    ").configure_view(\n",
    "    stroke='transparent'\n",
    ").configure_axis(\n",
    "    domainWidth=0.8\n",
    ")"
   ]
  },
  {
   "cell_type": "code",
   "execution_count": null,
   "metadata": {},
   "outputs": [],
   "source": []
  },
  {
   "cell_type": "code",
   "execution_count": 23,
   "metadata": {},
   "outputs": [
    {
     "data": {
      "text/plain": [
       "<matplotlib.axes._subplots.AxesSubplot at 0x1a1bb56dd8>"
      ]
     },
     "execution_count": 23,
     "metadata": {},
     "output_type": "execute_result"
    },
    {
     "data": {
      "image/png": "[encoded data removed]",
      "text/plain": [
       "<Figure size 432x288 with 1 Axes>"
      ]
     },
     "metadata": {},
     "output_type": "display_data"
    }
   ],
   "source": [
    "from lifetimes.plotting import plot_calibration_purchases_vs_holdout_purchases\n",
    "bgf.fit(summary_cal_holdout['frequency_cal'], summary_cal_holdout['recency_cal'], summary_cal_holdout['T_cal'])\n",
    "plot_calibration_purchases_vs_holdout_purchases(bgf, summary_cal_holdout)\n"
   ]
  },
  {
   "cell_type": "code",
   "execution_count": 87,
   "metadata": {},
   "outputs": [
    {
     "data": {
      "text/html": [
       "<div>\n",
       "<style scoped>\n",
       "    .dataframe tbody tr th:only-of-type {\n",
       "        vertical-align: middle;\n",
       "    }\n",
       "\n",
       "    .dataframe tbody tr th {\n",
       "        vertical-align: top;\n",
       "    }\n",
       "\n",
       "    .dataframe thead th {\n",
       "        text-align: right;\n",
       "    }\n",
       "</style>\n",
       "<table border=\"1\" class=\"dataframe\">\n",
       "  <thead>\n",
       "    <tr style=\"text-align: right;\">\n",
       "      <th></th>\n",
       "      <th>frequency_cal</th>\n",
       "      <th>recency_cal</th>\n",
       "      <th>T_cal</th>\n",
       "      <th>duration_holdout</th>\n",
       "      <th>model_predictions</th>\n",
       "      <th>frequency_holdout</th>\n",
       "    </tr>\n",
       "    <tr>\n",
       "      <th>id</th>\n",
       "      <th></th>\n",
       "      <th></th>\n",
       "      <th></th>\n",
       "      <th></th>\n",
       "      <th></th>\n",
       "      <th></th>\n",
       "    </tr>\n",
       "  </thead>\n",
       "  <tbody>\n",
       "    <tr>\n",
       "      <th>0</th>\n",
       "      <td>0.0</td>\n",
       "      <td>0.0</td>\n",
       "      <td>177.0</td>\n",
       "      <td>121</td>\n",
       "      <td>0.112786</td>\n",
       "      <td>0.0</td>\n",
       "    </tr>\n",
       "    <tr>\n",
       "      <th>1</th>\n",
       "      <td>0.0</td>\n",
       "      <td>0.0</td>\n",
       "      <td>103.0</td>\n",
       "      <td>121</td>\n",
       "      <td>0.178463</td>\n",
       "      <td>0.0</td>\n",
       "    </tr>\n",
       "    <tr>\n",
       "      <th>2</th>\n",
       "      <td>6.0</td>\n",
       "      <td>142.0</td>\n",
       "      <td>171.0</td>\n",
       "      <td>121</td>\n",
       "      <td>1.767622</td>\n",
       "      <td>0.0</td>\n",
       "    </tr>\n",
       "    <tr>\n",
       "      <th>3</th>\n",
       "      <td>0.0</td>\n",
       "      <td>0.0</td>\n",
       "      <td>26.0</td>\n",
       "      <td>121</td>\n",
       "      <td>0.475414</td>\n",
       "      <td>0.0</td>\n",
       "    </tr>\n",
       "    <tr>\n",
       "      <th>4</th>\n",
       "      <td>2.0</td>\n",
       "      <td>9.0</td>\n",
       "      <td>62.0</td>\n",
       "      <td>121</td>\n",
       "      <td>0.114192</td>\n",
       "      <td>0.0</td>\n",
       "    </tr>\n",
       "  </tbody>\n",
       "</table>\n",
       "</div>"
      ],
      "text/plain": [
       "    frequency_cal  recency_cal  T_cal  duration_holdout  model_predictions  \\\n",
       "id                                                                           \n",
       "0             0.0          0.0  177.0               121           0.112786   \n",
       "1             0.0          0.0  103.0               121           0.178463   \n",
       "2             6.0        142.0  171.0               121           1.767622   \n",
       "3             0.0          0.0   26.0               121           0.475414   \n",
       "4             2.0          9.0   62.0               121           0.114192   \n",
       "\n",
       "    frequency_holdout  \n",
       "id                     \n",
       "0                 0.0  \n",
       "1                 0.0  \n",
       "2                 0.0  \n",
       "3                 0.0  \n",
       "4                 0.0  "
      ]
     },
     "execution_count": 87,
     "metadata": {},
     "output_type": "execute_result"
    }
   ],
   "source": [
    "full_summ.head()"
   ]
  },
  {
   "cell_type": "code",
   "execution_count": 94,
   "metadata": {},
   "outputs": [],
   "source": [
    "import numpy as np\n",
    "full_summ['abs_pct_err'] = np.abs(full_summ['frequency_holdout']- full_summ['model_predictions']) /full_summ['frequency_holdout'].replace(to_replace=0.0, value=1.0)"
   ]
  },
  {
   "cell_type": "code",
   "execution_count": null,
   "metadata": {},
   "outputs": [],
   "source": []
  },
  {
   "cell_type": "code",
   "execution_count": 95,
   "metadata": {},
   "outputs": [
    {
     "data": {
      "text/plain": [
       "0.3259894224130879"
      ]
     },
     "execution_count": 95,
     "metadata": {},
     "output_type": "execute_result"
    }
   ],
   "source": [
    "np.mean(full_summ['abs_pct_err'])"
   ]
  },
  {
   "cell_type": "code",
   "execution_count": 98,
   "metadata": {},
   "outputs": [
    {
     "data": {
      "text/plain": [
       "0.789020096424076"
      ]
     },
     "execution_count": 98,
     "metadata": {},
     "output_type": "execute_result"
    }
   ],
   "source": [
    "np.mean(full_summ[full_summ['frequency_holdout'] > 0]['abs_pct_err'])"
   ]
  },
  {
   "cell_type": "code",
   "execution_count": 24,
   "metadata": {},
   "outputs": [
    {
     "data": {
      "text/plain": [
       "0.057651226890431936"
      ]
     },
     "execution_count": 24,
     "metadata": {},
     "output_type": "execute_result"
    }
   ],
   "source": [
    "t = 10 #predict purchases in 10 periods\n",
    "individual = summary.iloc[20]\n",
    "# The below function is an alias to `bfg.conditional_expected_number_of_purchases_up_to_time`\n",
    "bgf.predict(t, individual['frequency'], individual['recency'], individual['T'])\n",
    "# 0.0576511\n"
   ]
  },
  {
   "cell_type": "code",
   "execution_count": 26,
   "metadata": {},
   "outputs": [
    {
     "data": {
      "text/plain": [
       "<matplotlib.axes._subplots.AxesSubplot at 0x1a1bb3f978>"
      ]
     },
     "execution_count": 26,
     "metadata": {},
     "output_type": "execute_result"
    },
    {
     "data": {
      "image/png": "[encoded data removed]",
      "text/plain": [
       "<Figure size 432x288 with 1 Axes>"
      ]
     },
     "metadata": {},
     "output_type": "display_data"
    }
   ],
   "source": [
    "from lifetimes.plotting import plot_history_alive\n",
    "\n",
    "id = 35\n",
    "days_since_birth = 200\n",
    "sp_trans = transaction_data.loc[transaction_data['id'] == id]\n",
    "plot_history_alive(bgf, days_since_birth, sp_trans, 'date')\n"
   ]
  },
  {
   "cell_type": "code",
   "execution_count": 27,
   "metadata": {},
   "outputs": [
    {
     "data": {
      "text/html": [
       "<div>\n",
       "<style scoped>\n",
       "    .dataframe tbody tr th:only-of-type {\n",
       "        vertical-align: middle;\n",
       "    }\n",
       "\n",
       "    .dataframe tbody tr th {\n",
       "        vertical-align: top;\n",
       "    }\n",
       "\n",
       "    .dataframe thead th {\n",
       "        text-align: right;\n",
       "    }\n",
       "</style>\n",
       "<table border=\"1\" class=\"dataframe\">\n",
       "  <thead>\n",
       "    <tr style=\"text-align: right;\">\n",
       "      <th></th>\n",
       "      <th>frequency</th>\n",
       "      <th>recency</th>\n",
       "      <th>T</th>\n",
       "      <th>monetary_value</th>\n",
       "    </tr>\n",
       "    <tr>\n",
       "      <th>customer_id</th>\n",
       "      <th></th>\n",
       "      <th></th>\n",
       "      <th></th>\n",
       "      <th></th>\n",
       "    </tr>\n",
       "  </thead>\n",
       "  <tbody>\n",
       "    <tr>\n",
       "      <th>1</th>\n",
       "      <td>2</td>\n",
       "      <td>30.43</td>\n",
       "      <td>38.86</td>\n",
       "      <td>22.35</td>\n",
       "    </tr>\n",
       "    <tr>\n",
       "      <th>2</th>\n",
       "      <td>1</td>\n",
       "      <td>1.71</td>\n",
       "      <td>38.86</td>\n",
       "      <td>11.77</td>\n",
       "    </tr>\n",
       "    <tr>\n",
       "      <th>6</th>\n",
       "      <td>7</td>\n",
       "      <td>29.43</td>\n",
       "      <td>38.86</td>\n",
       "      <td>73.74</td>\n",
       "    </tr>\n",
       "    <tr>\n",
       "      <th>7</th>\n",
       "      <td>1</td>\n",
       "      <td>5.00</td>\n",
       "      <td>38.86</td>\n",
       "      <td>11.77</td>\n",
       "    </tr>\n",
       "    <tr>\n",
       "      <th>9</th>\n",
       "      <td>2</td>\n",
       "      <td>35.71</td>\n",
       "      <td>38.86</td>\n",
       "      <td>25.55</td>\n",
       "    </tr>\n",
       "  </tbody>\n",
       "</table>\n",
       "</div>"
      ],
      "text/plain": [
       "             frequency  recency      T  monetary_value\n",
       "customer_id                                           \n",
       "1                    2    30.43  38.86           22.35\n",
       "2                    1     1.71  38.86           11.77\n",
       "6                    7    29.43  38.86           73.74\n",
       "7                    1     5.00  38.86           11.77\n",
       "9                    2    35.71  38.86           25.55"
      ]
     },
     "execution_count": 27,
     "metadata": {},
     "output_type": "execute_result"
    }
   ],
   "source": [
    "from lifetimes.datasets import load_cdnow_summary_data_with_monetary_value\n",
    "\n",
    "summary_with_money_value = load_cdnow_summary_data_with_monetary_value()\n",
    "summary_with_money_value.head()\n",
    "returning_customers_summary = summary_with_money_value[summary_with_money_value['frequency']>0]\n",
    "\n",
    "returning_customers_summary.head()"
   ]
  },
  {
   "cell_type": "code",
   "execution_count": 28,
   "metadata": {},
   "outputs": [
    {
     "data": {
      "text/html": [
       "<div>\n",
       "<style scoped>\n",
       "    .dataframe tbody tr th:only-of-type {\n",
       "        vertical-align: middle;\n",
       "    }\n",
       "\n",
       "    .dataframe tbody tr th {\n",
       "        vertical-align: top;\n",
       "    }\n",
       "\n",
       "    .dataframe thead th {\n",
       "        text-align: right;\n",
       "    }\n",
       "</style>\n",
       "<table border=\"1\" class=\"dataframe\">\n",
       "  <thead>\n",
       "    <tr style=\"text-align: right;\">\n",
       "      <th></th>\n",
       "      <th>monetary_value</th>\n",
       "      <th>frequency</th>\n",
       "    </tr>\n",
       "  </thead>\n",
       "  <tbody>\n",
       "    <tr>\n",
       "      <th>monetary_value</th>\n",
       "      <td>1.000000</td>\n",
       "      <td>0.113884</td>\n",
       "    </tr>\n",
       "    <tr>\n",
       "      <th>frequency</th>\n",
       "      <td>0.113884</td>\n",
       "      <td>1.000000</td>\n",
       "    </tr>\n",
       "  </tbody>\n",
       "</table>\n",
       "</div>"
      ],
      "text/plain": [
       "                monetary_value  frequency\n",
       "monetary_value        1.000000   0.113884\n",
       "frequency             0.113884   1.000000"
      ]
     },
     "execution_count": 28,
     "metadata": {},
     "output_type": "execute_result"
    }
   ],
   "source": [
    "returning_customers_summary[['monetary_value', 'frequency']].corr()"
   ]
  },
  {
   "cell_type": "code",
   "execution_count": 29,
   "metadata": {},
   "outputs": [
    {
     "name": "stdout",
     "output_type": "stream",
     "text": [
      "<lifetimes.GammaGammaFitter: fitted with 946 subjects, p: 6.25, q: 3.74, v: 15.45>\n"
     ]
    }
   ],
   "source": [
    "from lifetimes import GammaGammaFitter\n",
    "\n",
    "ggf = GammaGammaFitter(penalizer_coef = 0)\n",
    "ggf.fit(returning_customers_summary['frequency'],\n",
    "        returning_customers_summary['monetary_value'])\n",
    "print(ggf)"
   ]
  },
  {
   "cell_type": "code",
   "execution_count": 30,
   "metadata": {},
   "outputs": [
    {
     "name": "stdout",
     "output_type": "stream",
     "text": [
      "customer_id\n",
      "1     24.658618\n",
      "2     18.911483\n",
      "3     35.171009\n",
      "4     35.171009\n",
      "5     35.171009\n",
      "6     71.462851\n",
      "7     18.911483\n",
      "8     35.171009\n",
      "9     27.282409\n",
      "10    35.171009\n",
      "dtype: float64\n"
     ]
    }
   ],
   "source": [
    "print(ggf.conditional_expected_average_profit(\n",
    "        summary_with_money_value['frequency'],\n",
    "        summary_with_money_value['monetary_value']\n",
    "    ).head(10))"
   ]
  },
  {
   "cell_type": "code",
   "execution_count": 31,
   "metadata": {},
   "outputs": [
    {
     "name": "stdout",
     "output_type": "stream",
     "text": [
      "Expected conditional average profit: 35.252962713121704, Average profit: 35.07855179704026\n"
     ]
    }
   ],
   "source": [
    "print(\"Expected conditional average profit: %s, Average profit: %s\" % (\n",
    "    ggf.conditional_expected_average_profit(\n",
    "        summary_with_money_value['frequency'],\n",
    "        summary_with_money_value['monetary_value']\n",
    "    ).mean(),\n",
    "    summary_with_money_value[summary_with_money_value['frequency']>0]['monetary_value'].mean()\n",
    "))\n"
   ]
  },
  {
   "cell_type": "code",
   "execution_count": 32,
   "metadata": {},
   "outputs": [
    {
     "name": "stdout",
     "output_type": "stream",
     "text": [
      "customer_id\n",
      "1      140.095606\n",
      "2       18.943402\n",
      "3       38.180565\n",
      "4       38.180565\n",
      "5       38.180565\n",
      "6     1003.861403\n",
      "7       28.109578\n",
      "8       38.180565\n",
      "9      167.417525\n",
      "10      38.180565\n",
      "Name: clv, dtype: float64\n"
     ]
    }
   ],
   "source": [
    "# refit the BG model to the summary_with_money_value dataset\n",
    "bgf.fit(summary_with_money_value['frequency'], summary_with_money_value['recency'], summary_with_money_value['T'])\n",
    "\n",
    "print(ggf.customer_lifetime_value(\n",
    "    bgf, #the model to use to predict the number of future transactions\n",
    "    summary_with_money_value['frequency'],\n",
    "    summary_with_money_value['recency'],\n",
    "    summary_with_money_value['T'],\n",
    "    summary_with_money_value['monetary_value'],\n",
    "    time=12, # months\n",
    "    discount_rate=0.01 # monthly discount rate ~ 12.7% annually\n",
    ").head(10))"
   ]
  },
  {
   "cell_type": "code",
   "execution_count": null,
   "metadata": {},
   "outputs": [],
   "source": []
  }
 ],
 "metadata": {
  "hide_input": false,
  "kernelspec": {
   "display_name": "Python 3",
   "language": "python",
   "name": "python3"
  },
  "language_info": {
   "codemirror_mode": {
    "name": "ipython",
    "version": 3
   },
   "file_extension": ".py",
   "mimetype": "text/x-python",
   "name": "python",
   "nbconvert_exporter": "python",
   "pygments_lexer": "ipython3",
   "version": "3.7.0"
  }
 },
 "nbformat": 4,
 "nbformat_minor": 2
}
